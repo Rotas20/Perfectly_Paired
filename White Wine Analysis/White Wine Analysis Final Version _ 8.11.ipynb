{
 "cells": [
  {
   "cell_type": "markdown",
   "metadata": {},
   "source": [
    "## Exploring the White Wine Dataset\n",
    "\n",
    "- Which phsyiochemical property contributes most to high quality wine? Least?\n",
    "- What is the ideal numeric value of that property that will generate the highest quality wine? \n"
   ]
  },
  {
   "cell_type": "code",
   "execution_count": 1,
   "metadata": {},
   "outputs": [],
   "source": [
    "%matplotlib inline\n",
    "import matplotlib.pyplot as plt\n",
    "import numpy as np\n",
    "import pandas as pd\n",
    "from scipy import stats\n",
    "import statsmodels.api as sm\n",
    "from statsmodels.stats.outliers_influence import variance_inflation_factor\n",
    "\n",
    "from pandas.plotting import scatter_matrix\n",
    "from sklearn.preprocessing import QuantileTransformer\n",
    "from pandas import DataFrame as df"
   ]
  },
  {
   "cell_type": "code",
   "execution_count": 2,
   "metadata": {},
   "outputs": [
    {
     "data": {
      "text/html": [
       "<div>\n",
       "<style scoped>\n",
       "    .dataframe tbody tr th:only-of-type {\n",
       "        vertical-align: middle;\n",
       "    }\n",
       "\n",
       "    .dataframe tbody tr th {\n",
       "        vertical-align: top;\n",
       "    }\n",
       "\n",
       "    .dataframe thead th {\n",
       "        text-align: right;\n",
       "    }\n",
       "</style>\n",
       "<table border=\"1\" class=\"dataframe\">\n",
       "  <thead>\n",
       "    <tr style=\"text-align: right;\">\n",
       "      <th></th>\n",
       "      <th>fixed acidity</th>\n",
       "      <th>volatile acidity</th>\n",
       "      <th>citric acid</th>\n",
       "      <th>residual sugar</th>\n",
       "      <th>chlorides</th>\n",
       "      <th>free sulfur dioxide</th>\n",
       "      <th>total sulfur dioxide</th>\n",
       "      <th>density</th>\n",
       "      <th>pH</th>\n",
       "      <th>sulphates</th>\n",
       "      <th>alcohol</th>\n",
       "      <th>quality</th>\n",
       "    </tr>\n",
       "  </thead>\n",
       "  <tbody>\n",
       "    <tr>\n",
       "      <th>0</th>\n",
       "      <td>7.0</td>\n",
       "      <td>0.27</td>\n",
       "      <td>0.36</td>\n",
       "      <td>20.7</td>\n",
       "      <td>0.045</td>\n",
       "      <td>45.0</td>\n",
       "      <td>170.0</td>\n",
       "      <td>1.00100</td>\n",
       "      <td>3.00</td>\n",
       "      <td>0.45</td>\n",
       "      <td>8.8</td>\n",
       "      <td>6</td>\n",
       "    </tr>\n",
       "    <tr>\n",
       "      <th>1</th>\n",
       "      <td>6.3</td>\n",
       "      <td>0.30</td>\n",
       "      <td>0.34</td>\n",
       "      <td>1.6</td>\n",
       "      <td>0.049</td>\n",
       "      <td>14.0</td>\n",
       "      <td>132.0</td>\n",
       "      <td>0.99400</td>\n",
       "      <td>3.30</td>\n",
       "      <td>0.49</td>\n",
       "      <td>9.5</td>\n",
       "      <td>6</td>\n",
       "    </tr>\n",
       "    <tr>\n",
       "      <th>2</th>\n",
       "      <td>8.1</td>\n",
       "      <td>0.28</td>\n",
       "      <td>0.40</td>\n",
       "      <td>6.9</td>\n",
       "      <td>0.050</td>\n",
       "      <td>30.0</td>\n",
       "      <td>97.0</td>\n",
       "      <td>0.99510</td>\n",
       "      <td>3.26</td>\n",
       "      <td>0.44</td>\n",
       "      <td>10.1</td>\n",
       "      <td>6</td>\n",
       "    </tr>\n",
       "    <tr>\n",
       "      <th>3</th>\n",
       "      <td>7.2</td>\n",
       "      <td>0.23</td>\n",
       "      <td>0.32</td>\n",
       "      <td>8.5</td>\n",
       "      <td>0.058</td>\n",
       "      <td>47.0</td>\n",
       "      <td>186.0</td>\n",
       "      <td>0.99560</td>\n",
       "      <td>3.19</td>\n",
       "      <td>0.40</td>\n",
       "      <td>9.9</td>\n",
       "      <td>6</td>\n",
       "    </tr>\n",
       "    <tr>\n",
       "      <th>4</th>\n",
       "      <td>7.2</td>\n",
       "      <td>0.23</td>\n",
       "      <td>0.32</td>\n",
       "      <td>8.5</td>\n",
       "      <td>0.058</td>\n",
       "      <td>47.0</td>\n",
       "      <td>186.0</td>\n",
       "      <td>0.99560</td>\n",
       "      <td>3.19</td>\n",
       "      <td>0.40</td>\n",
       "      <td>9.9</td>\n",
       "      <td>6</td>\n",
       "    </tr>\n",
       "    <tr>\n",
       "      <th>...</th>\n",
       "      <td>...</td>\n",
       "      <td>...</td>\n",
       "      <td>...</td>\n",
       "      <td>...</td>\n",
       "      <td>...</td>\n",
       "      <td>...</td>\n",
       "      <td>...</td>\n",
       "      <td>...</td>\n",
       "      <td>...</td>\n",
       "      <td>...</td>\n",
       "      <td>...</td>\n",
       "      <td>...</td>\n",
       "    </tr>\n",
       "    <tr>\n",
       "      <th>4893</th>\n",
       "      <td>6.2</td>\n",
       "      <td>0.21</td>\n",
       "      <td>0.29</td>\n",
       "      <td>1.6</td>\n",
       "      <td>0.039</td>\n",
       "      <td>24.0</td>\n",
       "      <td>92.0</td>\n",
       "      <td>0.99114</td>\n",
       "      <td>3.27</td>\n",
       "      <td>0.50</td>\n",
       "      <td>11.2</td>\n",
       "      <td>6</td>\n",
       "    </tr>\n",
       "    <tr>\n",
       "      <th>4894</th>\n",
       "      <td>6.6</td>\n",
       "      <td>0.32</td>\n",
       "      <td>0.36</td>\n",
       "      <td>8.0</td>\n",
       "      <td>0.047</td>\n",
       "      <td>57.0</td>\n",
       "      <td>168.0</td>\n",
       "      <td>0.99490</td>\n",
       "      <td>3.15</td>\n",
       "      <td>0.46</td>\n",
       "      <td>9.6</td>\n",
       "      <td>5</td>\n",
       "    </tr>\n",
       "    <tr>\n",
       "      <th>4895</th>\n",
       "      <td>6.5</td>\n",
       "      <td>0.24</td>\n",
       "      <td>0.19</td>\n",
       "      <td>1.2</td>\n",
       "      <td>0.041</td>\n",
       "      <td>30.0</td>\n",
       "      <td>111.0</td>\n",
       "      <td>0.99254</td>\n",
       "      <td>2.99</td>\n",
       "      <td>0.46</td>\n",
       "      <td>9.4</td>\n",
       "      <td>6</td>\n",
       "    </tr>\n",
       "    <tr>\n",
       "      <th>4896</th>\n",
       "      <td>5.5</td>\n",
       "      <td>0.29</td>\n",
       "      <td>0.30</td>\n",
       "      <td>1.1</td>\n",
       "      <td>0.022</td>\n",
       "      <td>20.0</td>\n",
       "      <td>110.0</td>\n",
       "      <td>0.98869</td>\n",
       "      <td>3.34</td>\n",
       "      <td>0.38</td>\n",
       "      <td>12.8</td>\n",
       "      <td>7</td>\n",
       "    </tr>\n",
       "    <tr>\n",
       "      <th>4897</th>\n",
       "      <td>6.0</td>\n",
       "      <td>0.21</td>\n",
       "      <td>0.38</td>\n",
       "      <td>0.8</td>\n",
       "      <td>0.020</td>\n",
       "      <td>22.0</td>\n",
       "      <td>98.0</td>\n",
       "      <td>0.98941</td>\n",
       "      <td>3.26</td>\n",
       "      <td>0.32</td>\n",
       "      <td>11.8</td>\n",
       "      <td>6</td>\n",
       "    </tr>\n",
       "  </tbody>\n",
       "</table>\n",
       "<p>4898 rows × 12 columns</p>\n",
       "</div>"
      ],
      "text/plain": [
       "      fixed acidity  volatile acidity  citric acid  residual sugar  chlorides  \\\n",
       "0               7.0              0.27         0.36            20.7      0.045   \n",
       "1               6.3              0.30         0.34             1.6      0.049   \n",
       "2               8.1              0.28         0.40             6.9      0.050   \n",
       "3               7.2              0.23         0.32             8.5      0.058   \n",
       "4               7.2              0.23         0.32             8.5      0.058   \n",
       "...             ...               ...          ...             ...        ...   \n",
       "4893            6.2              0.21         0.29             1.6      0.039   \n",
       "4894            6.6              0.32         0.36             8.0      0.047   \n",
       "4895            6.5              0.24         0.19             1.2      0.041   \n",
       "4896            5.5              0.29         0.30             1.1      0.022   \n",
       "4897            6.0              0.21         0.38             0.8      0.020   \n",
       "\n",
       "      free sulfur dioxide  total sulfur dioxide  density    pH  sulphates  \\\n",
       "0                    45.0                 170.0  1.00100  3.00       0.45   \n",
       "1                    14.0                 132.0  0.99400  3.30       0.49   \n",
       "2                    30.0                  97.0  0.99510  3.26       0.44   \n",
       "3                    47.0                 186.0  0.99560  3.19       0.40   \n",
       "4                    47.0                 186.0  0.99560  3.19       0.40   \n",
       "...                   ...                   ...      ...   ...        ...   \n",
       "4893                 24.0                  92.0  0.99114  3.27       0.50   \n",
       "4894                 57.0                 168.0  0.99490  3.15       0.46   \n",
       "4895                 30.0                 111.0  0.99254  2.99       0.46   \n",
       "4896                 20.0                 110.0  0.98869  3.34       0.38   \n",
       "4897                 22.0                  98.0  0.98941  3.26       0.32   \n",
       "\n",
       "      alcohol  quality  \n",
       "0         8.8        6  \n",
       "1         9.5        6  \n",
       "2        10.1        6  \n",
       "3         9.9        6  \n",
       "4         9.9        6  \n",
       "...       ...      ...  \n",
       "4893     11.2        6  \n",
       "4894      9.6        5  \n",
       "4895      9.4        6  \n",
       "4896     12.8        7  \n",
       "4897     11.8        6  \n",
       "\n",
       "[4898 rows x 12 columns]"
      ]
     },
     "execution_count": 2,
     "metadata": {},
     "output_type": "execute_result"
    }
   ],
   "source": [
    "#Read in csv file\n",
    "white = pd.read_csv(\"White_Analysis/winequality_white.csv\", sep=';', encoding='UTF8') \n",
    "# Drop the null columns where all values are null\n",
    "white = white.dropna(axis='columns', how='all')\n",
    "# Drop the null rows\n",
    "white.dropna()\n",
    "white.head()\n",
    "white"
   ]
  },
  {
   "cell_type": "code",
   "execution_count": 3,
   "metadata": {
    "scrolled": true
   },
   "outputs": [
    {
     "data": {
      "text/html": [
       "<div>\n",
       "<style scoped>\n",
       "    .dataframe tbody tr th:only-of-type {\n",
       "        vertical-align: middle;\n",
       "    }\n",
       "\n",
       "    .dataframe tbody tr th {\n",
       "        vertical-align: top;\n",
       "    }\n",
       "\n",
       "    .dataframe thead th {\n",
       "        text-align: right;\n",
       "    }\n",
       "</style>\n",
       "<table border=\"1\" class=\"dataframe\">\n",
       "  <thead>\n",
       "    <tr style=\"text-align: right;\">\n",
       "      <th></th>\n",
       "      <th>fixed acidity</th>\n",
       "      <th>volatile acidity</th>\n",
       "      <th>citric acid</th>\n",
       "      <th>residual sugar</th>\n",
       "      <th>chlorides</th>\n",
       "      <th>free sulfur dioxide</th>\n",
       "      <th>total sulfur dioxide</th>\n",
       "      <th>density</th>\n",
       "      <th>pH</th>\n",
       "      <th>sulphates</th>\n",
       "      <th>alcohol</th>\n",
       "      <th>quality</th>\n",
       "    </tr>\n",
       "  </thead>\n",
       "  <tbody>\n",
       "    <tr>\n",
       "      <th>count</th>\n",
       "      <td>4898.0</td>\n",
       "      <td>4898.0</td>\n",
       "      <td>4898.0</td>\n",
       "      <td>4898.0</td>\n",
       "      <td>4898.0</td>\n",
       "      <td>4898.0</td>\n",
       "      <td>4898.0</td>\n",
       "      <td>4898.0</td>\n",
       "      <td>4898.0</td>\n",
       "      <td>4898.0</td>\n",
       "      <td>4898.0</td>\n",
       "      <td>4898.0</td>\n",
       "    </tr>\n",
       "    <tr>\n",
       "      <th>mean</th>\n",
       "      <td>7.0</td>\n",
       "      <td>0.0</td>\n",
       "      <td>0.0</td>\n",
       "      <td>6.0</td>\n",
       "      <td>0.0</td>\n",
       "      <td>35.0</td>\n",
       "      <td>138.0</td>\n",
       "      <td>1.0</td>\n",
       "      <td>3.0</td>\n",
       "      <td>0.0</td>\n",
       "      <td>11.0</td>\n",
       "      <td>6.0</td>\n",
       "    </tr>\n",
       "    <tr>\n",
       "      <th>std</th>\n",
       "      <td>1.0</td>\n",
       "      <td>0.0</td>\n",
       "      <td>0.0</td>\n",
       "      <td>5.0</td>\n",
       "      <td>0.0</td>\n",
       "      <td>17.0</td>\n",
       "      <td>42.0</td>\n",
       "      <td>0.0</td>\n",
       "      <td>0.0</td>\n",
       "      <td>0.0</td>\n",
       "      <td>1.0</td>\n",
       "      <td>1.0</td>\n",
       "    </tr>\n",
       "    <tr>\n",
       "      <th>min</th>\n",
       "      <td>4.0</td>\n",
       "      <td>0.0</td>\n",
       "      <td>0.0</td>\n",
       "      <td>1.0</td>\n",
       "      <td>0.0</td>\n",
       "      <td>2.0</td>\n",
       "      <td>9.0</td>\n",
       "      <td>1.0</td>\n",
       "      <td>3.0</td>\n",
       "      <td>0.0</td>\n",
       "      <td>8.0</td>\n",
       "      <td>3.0</td>\n",
       "    </tr>\n",
       "    <tr>\n",
       "      <th>25%</th>\n",
       "      <td>6.0</td>\n",
       "      <td>0.0</td>\n",
       "      <td>0.0</td>\n",
       "      <td>2.0</td>\n",
       "      <td>0.0</td>\n",
       "      <td>23.0</td>\n",
       "      <td>108.0</td>\n",
       "      <td>1.0</td>\n",
       "      <td>3.0</td>\n",
       "      <td>0.0</td>\n",
       "      <td>10.0</td>\n",
       "      <td>5.0</td>\n",
       "    </tr>\n",
       "    <tr>\n",
       "      <th>50%</th>\n",
       "      <td>7.0</td>\n",
       "      <td>0.0</td>\n",
       "      <td>0.0</td>\n",
       "      <td>5.0</td>\n",
       "      <td>0.0</td>\n",
       "      <td>34.0</td>\n",
       "      <td>134.0</td>\n",
       "      <td>1.0</td>\n",
       "      <td>3.0</td>\n",
       "      <td>0.0</td>\n",
       "      <td>10.0</td>\n",
       "      <td>6.0</td>\n",
       "    </tr>\n",
       "    <tr>\n",
       "      <th>75%</th>\n",
       "      <td>7.0</td>\n",
       "      <td>0.0</td>\n",
       "      <td>0.0</td>\n",
       "      <td>10.0</td>\n",
       "      <td>0.0</td>\n",
       "      <td>46.0</td>\n",
       "      <td>167.0</td>\n",
       "      <td>1.0</td>\n",
       "      <td>3.0</td>\n",
       "      <td>1.0</td>\n",
       "      <td>11.0</td>\n",
       "      <td>6.0</td>\n",
       "    </tr>\n",
       "    <tr>\n",
       "      <th>max</th>\n",
       "      <td>14.0</td>\n",
       "      <td>1.0</td>\n",
       "      <td>2.0</td>\n",
       "      <td>66.0</td>\n",
       "      <td>0.0</td>\n",
       "      <td>289.0</td>\n",
       "      <td>440.0</td>\n",
       "      <td>1.0</td>\n",
       "      <td>4.0</td>\n",
       "      <td>1.0</td>\n",
       "      <td>14.0</td>\n",
       "      <td>9.0</td>\n",
       "    </tr>\n",
       "  </tbody>\n",
       "</table>\n",
       "</div>"
      ],
      "text/plain": [
       "       fixed acidity  volatile acidity  citric acid  residual sugar  \\\n",
       "count         4898.0            4898.0       4898.0          4898.0   \n",
       "mean             7.0               0.0          0.0             6.0   \n",
       "std              1.0               0.0          0.0             5.0   \n",
       "min              4.0               0.0          0.0             1.0   \n",
       "25%              6.0               0.0          0.0             2.0   \n",
       "50%              7.0               0.0          0.0             5.0   \n",
       "75%              7.0               0.0          0.0            10.0   \n",
       "max             14.0               1.0          2.0            66.0   \n",
       "\n",
       "       chlorides  free sulfur dioxide  total sulfur dioxide  density      pH  \\\n",
       "count     4898.0               4898.0                4898.0   4898.0  4898.0   \n",
       "mean         0.0                 35.0                 138.0      1.0     3.0   \n",
       "std          0.0                 17.0                  42.0      0.0     0.0   \n",
       "min          0.0                  2.0                   9.0      1.0     3.0   \n",
       "25%          0.0                 23.0                 108.0      1.0     3.0   \n",
       "50%          0.0                 34.0                 134.0      1.0     3.0   \n",
       "75%          0.0                 46.0                 167.0      1.0     3.0   \n",
       "max          0.0                289.0                 440.0      1.0     4.0   \n",
       "\n",
       "       sulphates  alcohol  quality  \n",
       "count     4898.0   4898.0   4898.0  \n",
       "mean         0.0     11.0      6.0  \n",
       "std          0.0      1.0      1.0  \n",
       "min          0.0      8.0      3.0  \n",
       "25%          0.0     10.0      5.0  \n",
       "50%          0.0     10.0      6.0  \n",
       "75%          1.0     11.0      6.0  \n",
       "max          1.0     14.0      9.0  "
      ]
     },
     "execution_count": 3,
     "metadata": {},
     "output_type": "execute_result"
    }
   ],
   "source": [
    "metadata = white.describe()\n",
    "metadata.round()\n"
   ]
  },
  {
   "cell_type": "code",
   "execution_count": 4,
   "metadata": {
    "scrolled": false
   },
   "outputs": [
    {
     "data": {
      "text/plain": [
       "array([[<matplotlib.axes._subplots.AxesSubplot object at 0x7f8eaf503890>,\n",
       "        <matplotlib.axes._subplots.AxesSubplot object at 0x7f8eb3c23fd0>,\n",
       "        <matplotlib.axes._subplots.AxesSubplot object at 0x7f8eb3c5ac90>],\n",
       "       [<matplotlib.axes._subplots.AxesSubplot object at 0x7f8eb3c9c4d0>,\n",
       "        <matplotlib.axes._subplots.AxesSubplot object at 0x7f8eb3cd1cd0>,\n",
       "        <matplotlib.axes._subplots.AxesSubplot object at 0x7f8eb3d0f510>],\n",
       "       [<matplotlib.axes._subplots.AxesSubplot object at 0x7f8eb3d44d10>,\n",
       "        <matplotlib.axes._subplots.AxesSubplot object at 0x7f8eb3d83550>,\n",
       "        <matplotlib.axes._subplots.AxesSubplot object at 0x7f8eb3d8f0d0>],\n",
       "       [<matplotlib.axes._subplots.AxesSubplot object at 0x7f8eb3dc2a50>,\n",
       "        <matplotlib.axes._subplots.AxesSubplot object at 0x7f8eb3e2bd90>,\n",
       "        <matplotlib.axes._subplots.AxesSubplot object at 0x7f8eb3e6e5d0>]],\n",
       "      dtype=object)"
      ]
     },
     "execution_count": 4,
     "metadata": {},
     "output_type": "execute_result"
    },
    {
     "data": {
      "image/png": "[encoded data removed]",
      "text/plain": [
       "<Figure size 864x720 with 12 Axes>"
      ]
     },
     "metadata": {
      "needs_background": "light"
     },
     "output_type": "display_data"
    }
   ],
   "source": [
    "#Examining the distribution of each property\n",
    "#PH level seems to be the most normally distributed\n",
    "#Chlorides, Free of Sulfur dioxide and residual sugar appear to be the least normally distributed\n",
    "white.hist(figsize=(12,10))"
   ]
  },
  {
   "cell_type": "code",
   "execution_count": 5,
   "metadata": {
    "scrolled": false
   },
   "outputs": [
    {
     "data": {
      "text/plain": [
       "3      20\n",
       "4     163\n",
       "5    1457\n",
       "6    2198\n",
       "7     880\n",
       "8     175\n",
       "9       5\n",
       "Name: quality, dtype: int64"
      ]
     },
     "execution_count": 5,
     "metadata": {},
     "output_type": "execute_result"
    }
   ],
   "source": [
    "#Explore white wine quality scores (scale of 1-10)\n",
    "quality_score_summary = white[\"quality\"].value_counts()\n",
    "quality_score_summary.sort_index(ascending=True)"
   ]
  },
  {
   "cell_type": "markdown",
   "metadata": {},
   "source": [
    "Removing Outliers through IQR's"
   ]
  },
  {
   "cell_type": "code",
   "execution_count": 6,
   "metadata": {
    "scrolled": true
   },
   "outputs": [],
   "source": [
    "def remove_outlier(col_name,w_df):\n",
    "    std = w_df[col_name].std()\n",
    "    mean = w_df[col_name].mean()\n",
    "\n",
    "    no_outlier_white = w_df[(w_df[col_name] > (mean - 3*std)) & (w_df[col_name] < (mean + 3*std))]\n",
    "    return no_outlier_white"
   ]
  },
  {
   "cell_type": "code",
   "execution_count": 7,
   "metadata": {
    "scrolled": false
   },
   "outputs": [
    {
     "name": "stdout",
     "output_type": "stream",
     "text": [
      "fixed acidity\n",
      "volatile acidity\n",
      "citric acid\n",
      "residual sugar\n",
      "chlorides\n",
      "free sulfur dioxide\n",
      "total sulfur dioxide\n",
      "density\n",
      "pH\n",
      "sulphates\n",
      "alcohol\n",
      "quality\n"
     ]
    },
    {
     "data": {
      "text/html": [
       "<div>\n",
       "<style scoped>\n",
       "    .dataframe tbody tr th:only-of-type {\n",
       "        vertical-align: middle;\n",
       "    }\n",
       "\n",
       "    .dataframe tbody tr th {\n",
       "        vertical-align: top;\n",
       "    }\n",
       "\n",
       "    .dataframe thead th {\n",
       "        text-align: right;\n",
       "    }\n",
       "</style>\n",
       "<table border=\"1\" class=\"dataframe\">\n",
       "  <thead>\n",
       "    <tr style=\"text-align: right;\">\n",
       "      <th></th>\n",
       "      <th>fixed acidity</th>\n",
       "      <th>volatile acidity</th>\n",
       "      <th>citric acid</th>\n",
       "      <th>residual sugar</th>\n",
       "      <th>chlorides</th>\n",
       "      <th>free sulfur dioxide</th>\n",
       "      <th>total sulfur dioxide</th>\n",
       "      <th>density</th>\n",
       "      <th>pH</th>\n",
       "      <th>sulphates</th>\n",
       "      <th>alcohol</th>\n",
       "      <th>quality</th>\n",
       "    </tr>\n",
       "  </thead>\n",
       "  <tbody>\n",
       "    <tr>\n",
       "      <th>0</th>\n",
       "      <td>7.0</td>\n",
       "      <td>0.27</td>\n",
       "      <td>0.36</td>\n",
       "      <td>20.7</td>\n",
       "      <td>0.04</td>\n",
       "      <td>45.0</td>\n",
       "      <td>170.0</td>\n",
       "      <td>1.00</td>\n",
       "      <td>3.00</td>\n",
       "      <td>0.45</td>\n",
       "      <td>8.8</td>\n",
       "      <td>6</td>\n",
       "    </tr>\n",
       "    <tr>\n",
       "      <th>1</th>\n",
       "      <td>6.3</td>\n",
       "      <td>0.30</td>\n",
       "      <td>0.34</td>\n",
       "      <td>1.6</td>\n",
       "      <td>0.05</td>\n",
       "      <td>14.0</td>\n",
       "      <td>132.0</td>\n",
       "      <td>0.99</td>\n",
       "      <td>3.30</td>\n",
       "      <td>0.49</td>\n",
       "      <td>9.5</td>\n",
       "      <td>6</td>\n",
       "    </tr>\n",
       "    <tr>\n",
       "      <th>2</th>\n",
       "      <td>8.1</td>\n",
       "      <td>0.28</td>\n",
       "      <td>0.40</td>\n",
       "      <td>6.9</td>\n",
       "      <td>0.05</td>\n",
       "      <td>30.0</td>\n",
       "      <td>97.0</td>\n",
       "      <td>1.00</td>\n",
       "      <td>3.26</td>\n",
       "      <td>0.44</td>\n",
       "      <td>10.1</td>\n",
       "      <td>6</td>\n",
       "    </tr>\n",
       "    <tr>\n",
       "      <th>3</th>\n",
       "      <td>7.2</td>\n",
       "      <td>0.23</td>\n",
       "      <td>0.32</td>\n",
       "      <td>8.5</td>\n",
       "      <td>0.06</td>\n",
       "      <td>47.0</td>\n",
       "      <td>186.0</td>\n",
       "      <td>1.00</td>\n",
       "      <td>3.19</td>\n",
       "      <td>0.40</td>\n",
       "      <td>9.9</td>\n",
       "      <td>6</td>\n",
       "    </tr>\n",
       "    <tr>\n",
       "      <th>4</th>\n",
       "      <td>7.2</td>\n",
       "      <td>0.23</td>\n",
       "      <td>0.32</td>\n",
       "      <td>8.5</td>\n",
       "      <td>0.06</td>\n",
       "      <td>47.0</td>\n",
       "      <td>186.0</td>\n",
       "      <td>1.00</td>\n",
       "      <td>3.19</td>\n",
       "      <td>0.40</td>\n",
       "      <td>9.9</td>\n",
       "      <td>6</td>\n",
       "    </tr>\n",
       "    <tr>\n",
       "      <th>...</th>\n",
       "      <td>...</td>\n",
       "      <td>...</td>\n",
       "      <td>...</td>\n",
       "      <td>...</td>\n",
       "      <td>...</td>\n",
       "      <td>...</td>\n",
       "      <td>...</td>\n",
       "      <td>...</td>\n",
       "      <td>...</td>\n",
       "      <td>...</td>\n",
       "      <td>...</td>\n",
       "      <td>...</td>\n",
       "    </tr>\n",
       "    <tr>\n",
       "      <th>4893</th>\n",
       "      <td>6.2</td>\n",
       "      <td>0.21</td>\n",
       "      <td>0.29</td>\n",
       "      <td>1.6</td>\n",
       "      <td>0.04</td>\n",
       "      <td>24.0</td>\n",
       "      <td>92.0</td>\n",
       "      <td>0.99</td>\n",
       "      <td>3.27</td>\n",
       "      <td>0.50</td>\n",
       "      <td>11.2</td>\n",
       "      <td>6</td>\n",
       "    </tr>\n",
       "    <tr>\n",
       "      <th>4894</th>\n",
       "      <td>6.6</td>\n",
       "      <td>0.32</td>\n",
       "      <td>0.36</td>\n",
       "      <td>8.0</td>\n",
       "      <td>0.05</td>\n",
       "      <td>57.0</td>\n",
       "      <td>168.0</td>\n",
       "      <td>0.99</td>\n",
       "      <td>3.15</td>\n",
       "      <td>0.46</td>\n",
       "      <td>9.6</td>\n",
       "      <td>5</td>\n",
       "    </tr>\n",
       "    <tr>\n",
       "      <th>4895</th>\n",
       "      <td>6.5</td>\n",
       "      <td>0.24</td>\n",
       "      <td>0.19</td>\n",
       "      <td>1.2</td>\n",
       "      <td>0.04</td>\n",
       "      <td>30.0</td>\n",
       "      <td>111.0</td>\n",
       "      <td>0.99</td>\n",
       "      <td>2.99</td>\n",
       "      <td>0.46</td>\n",
       "      <td>9.4</td>\n",
       "      <td>6</td>\n",
       "    </tr>\n",
       "    <tr>\n",
       "      <th>4896</th>\n",
       "      <td>5.5</td>\n",
       "      <td>0.29</td>\n",
       "      <td>0.30</td>\n",
       "      <td>1.1</td>\n",
       "      <td>0.02</td>\n",
       "      <td>20.0</td>\n",
       "      <td>110.0</td>\n",
       "      <td>0.99</td>\n",
       "      <td>3.34</td>\n",
       "      <td>0.38</td>\n",
       "      <td>12.8</td>\n",
       "      <td>7</td>\n",
       "    </tr>\n",
       "    <tr>\n",
       "      <th>4897</th>\n",
       "      <td>6.0</td>\n",
       "      <td>0.21</td>\n",
       "      <td>0.38</td>\n",
       "      <td>0.8</td>\n",
       "      <td>0.02</td>\n",
       "      <td>22.0</td>\n",
       "      <td>98.0</td>\n",
       "      <td>0.99</td>\n",
       "      <td>3.26</td>\n",
       "      <td>0.32</td>\n",
       "      <td>11.8</td>\n",
       "      <td>6</td>\n",
       "    </tr>\n",
       "  </tbody>\n",
       "</table>\n",
       "<p>4469 rows × 12 columns</p>\n",
       "</div>"
      ],
      "text/plain": [
       "      fixed acidity  volatile acidity  citric acid  residual sugar  chlorides  \\\n",
       "0               7.0              0.27         0.36            20.7       0.04   \n",
       "1               6.3              0.30         0.34             1.6       0.05   \n",
       "2               8.1              0.28         0.40             6.9       0.05   \n",
       "3               7.2              0.23         0.32             8.5       0.06   \n",
       "4               7.2              0.23         0.32             8.5       0.06   \n",
       "...             ...               ...          ...             ...        ...   \n",
       "4893            6.2              0.21         0.29             1.6       0.04   \n",
       "4894            6.6              0.32         0.36             8.0       0.05   \n",
       "4895            6.5              0.24         0.19             1.2       0.04   \n",
       "4896            5.5              0.29         0.30             1.1       0.02   \n",
       "4897            6.0              0.21         0.38             0.8       0.02   \n",
       "\n",
       "      free sulfur dioxide  total sulfur dioxide  density    pH  sulphates  \\\n",
       "0                    45.0                 170.0     1.00  3.00       0.45   \n",
       "1                    14.0                 132.0     0.99  3.30       0.49   \n",
       "2                    30.0                  97.0     1.00  3.26       0.44   \n",
       "3                    47.0                 186.0     1.00  3.19       0.40   \n",
       "4                    47.0                 186.0     1.00  3.19       0.40   \n",
       "...                   ...                   ...      ...   ...        ...   \n",
       "4893                 24.0                  92.0     0.99  3.27       0.50   \n",
       "4894                 57.0                 168.0     0.99  3.15       0.46   \n",
       "4895                 30.0                 111.0     0.99  2.99       0.46   \n",
       "4896                 20.0                 110.0     0.99  3.34       0.38   \n",
       "4897                 22.0                  98.0     0.99  3.26       0.32   \n",
       "\n",
       "      alcohol  quality  \n",
       "0         8.8        6  \n",
       "1         9.5        6  \n",
       "2        10.1        6  \n",
       "3         9.9        6  \n",
       "4         9.9        6  \n",
       "...       ...      ...  \n",
       "4893     11.2        6  \n",
       "4894      9.6        5  \n",
       "4895      9.4        6  \n",
       "4896     12.8        7  \n",
       "4897     11.8        6  \n",
       "\n",
       "[4469 rows x 12 columns]"
      ]
     },
     "execution_count": 7,
     "metadata": {},
     "output_type": "execute_result"
    }
   ],
   "source": [
    "#df is the white dataset with outliers removed for all columns\n",
    "w_df = white\n",
    "for i in list(white.columns):\n",
    "    print (i)\n",
    "    w_df = remove_outlier(i,w_df)   \n",
    "w_df.round(2)"
   ]
  },
  {
   "cell_type": "code",
   "execution_count": 8,
   "metadata": {},
   "outputs": [
    {
     "data": {
      "text/html": [
       "<div>\n",
       "<style scoped>\n",
       "    .dataframe tbody tr th:only-of-type {\n",
       "        vertical-align: middle;\n",
       "    }\n",
       "\n",
       "    .dataframe tbody tr th {\n",
       "        vertical-align: top;\n",
       "    }\n",
       "\n",
       "    .dataframe thead th {\n",
       "        text-align: right;\n",
       "    }\n",
       "</style>\n",
       "<table border=\"1\" class=\"dataframe\">\n",
       "  <thead>\n",
       "    <tr style=\"text-align: right;\">\n",
       "      <th></th>\n",
       "      <th>fixed acidity</th>\n",
       "      <th>volatile acidity</th>\n",
       "      <th>citric acid</th>\n",
       "      <th>residual sugar</th>\n",
       "      <th>chlorides</th>\n",
       "      <th>free sulfur dioxide</th>\n",
       "      <th>total sulfur dioxide</th>\n",
       "      <th>density</th>\n",
       "      <th>pH</th>\n",
       "      <th>sulphates</th>\n",
       "      <th>alcohol</th>\n",
       "      <th>quality</th>\n",
       "    </tr>\n",
       "  </thead>\n",
       "  <tbody>\n",
       "    <tr>\n",
       "      <th>count</th>\n",
       "      <td>4469.000000</td>\n",
       "      <td>4469.000000</td>\n",
       "      <td>4469.000000</td>\n",
       "      <td>4469.000000</td>\n",
       "      <td>4469.000000</td>\n",
       "      <td>4469.000000</td>\n",
       "      <td>4469.000000</td>\n",
       "      <td>4469.000000</td>\n",
       "      <td>4469.000000</td>\n",
       "      <td>4469.000000</td>\n",
       "      <td>4469.000000</td>\n",
       "      <td>4469.000000</td>\n",
       "    </tr>\n",
       "    <tr>\n",
       "      <th>mean</th>\n",
       "      <td>6.840982</td>\n",
       "      <td>0.270621</td>\n",
       "      <td>0.326695</td>\n",
       "      <td>6.415563</td>\n",
       "      <td>0.043105</td>\n",
       "      <td>34.845715</td>\n",
       "      <td>137.591407</td>\n",
       "      <td>0.993968</td>\n",
       "      <td>3.187995</td>\n",
       "      <td>0.485413</td>\n",
       "      <td>10.537077</td>\n",
       "      <td>5.915194</td>\n",
       "    </tr>\n",
       "    <tr>\n",
       "      <th>std</th>\n",
       "      <td>0.785104</td>\n",
       "      <td>0.085136</td>\n",
       "      <td>0.100878</td>\n",
       "      <td>4.955954</td>\n",
       "      <td>0.011508</td>\n",
       "      <td>15.399909</td>\n",
       "      <td>41.297292</td>\n",
       "      <td>0.002907</td>\n",
       "      <td>0.143240</td>\n",
       "      <td>0.105729</td>\n",
       "      <td>1.223274</td>\n",
       "      <td>0.854036</td>\n",
       "    </tr>\n",
       "    <tr>\n",
       "      <th>min</th>\n",
       "      <td>4.400000</td>\n",
       "      <td>0.080000</td>\n",
       "      <td>0.000000</td>\n",
       "      <td>0.600000</td>\n",
       "      <td>0.012000</td>\n",
       "      <td>2.000000</td>\n",
       "      <td>21.000000</td>\n",
       "      <td>0.987110</td>\n",
       "      <td>2.790000</td>\n",
       "      <td>0.220000</td>\n",
       "      <td>8.400000</td>\n",
       "      <td>4.000000</td>\n",
       "    </tr>\n",
       "    <tr>\n",
       "      <th>25%</th>\n",
       "      <td>6.300000</td>\n",
       "      <td>0.210000</td>\n",
       "      <td>0.270000</td>\n",
       "      <td>1.700000</td>\n",
       "      <td>0.035000</td>\n",
       "      <td>23.000000</td>\n",
       "      <td>108.000000</td>\n",
       "      <td>0.991680</td>\n",
       "      <td>3.090000</td>\n",
       "      <td>0.410000</td>\n",
       "      <td>9.500000</td>\n",
       "      <td>5.000000</td>\n",
       "    </tr>\n",
       "    <tr>\n",
       "      <th>50%</th>\n",
       "      <td>6.800000</td>\n",
       "      <td>0.260000</td>\n",
       "      <td>0.310000</td>\n",
       "      <td>5.300000</td>\n",
       "      <td>0.043000</td>\n",
       "      <td>34.000000</td>\n",
       "      <td>133.000000</td>\n",
       "      <td>0.993700</td>\n",
       "      <td>3.180000</td>\n",
       "      <td>0.470000</td>\n",
       "      <td>10.400000</td>\n",
       "      <td>6.000000</td>\n",
       "    </tr>\n",
       "    <tr>\n",
       "      <th>75%</th>\n",
       "      <td>7.300000</td>\n",
       "      <td>0.320000</td>\n",
       "      <td>0.380000</td>\n",
       "      <td>9.900000</td>\n",
       "      <td>0.050000</td>\n",
       "      <td>45.000000</td>\n",
       "      <td>166.000000</td>\n",
       "      <td>0.996100</td>\n",
       "      <td>3.280000</td>\n",
       "      <td>0.540000</td>\n",
       "      <td>11.400000</td>\n",
       "      <td>6.000000</td>\n",
       "    </tr>\n",
       "    <tr>\n",
       "      <th>max</th>\n",
       "      <td>9.300000</td>\n",
       "      <td>0.570000</td>\n",
       "      <td>0.690000</td>\n",
       "      <td>20.800000</td>\n",
       "      <td>0.105000</td>\n",
       "      <td>85.000000</td>\n",
       "      <td>260.000000</td>\n",
       "      <td>1.001960</td>\n",
       "      <td>3.630000</td>\n",
       "      <td>0.820000</td>\n",
       "      <td>14.200000</td>\n",
       "      <td>8.000000</td>\n",
       "    </tr>\n",
       "  </tbody>\n",
       "</table>\n",
       "</div>"
      ],
      "text/plain": [
       "       fixed acidity  volatile acidity  citric acid  residual sugar  \\\n",
       "count    4469.000000       4469.000000  4469.000000     4469.000000   \n",
       "mean        6.840982          0.270621     0.326695        6.415563   \n",
       "std         0.785104          0.085136     0.100878        4.955954   \n",
       "min         4.400000          0.080000     0.000000        0.600000   \n",
       "25%         6.300000          0.210000     0.270000        1.700000   \n",
       "50%         6.800000          0.260000     0.310000        5.300000   \n",
       "75%         7.300000          0.320000     0.380000        9.900000   \n",
       "max         9.300000          0.570000     0.690000       20.800000   \n",
       "\n",
       "         chlorides  free sulfur dioxide  total sulfur dioxide      density  \\\n",
       "count  4469.000000          4469.000000           4469.000000  4469.000000   \n",
       "mean      0.043105            34.845715            137.591407     0.993968   \n",
       "std       0.011508            15.399909             41.297292     0.002907   \n",
       "min       0.012000             2.000000             21.000000     0.987110   \n",
       "25%       0.035000            23.000000            108.000000     0.991680   \n",
       "50%       0.043000            34.000000            133.000000     0.993700   \n",
       "75%       0.050000            45.000000            166.000000     0.996100   \n",
       "max       0.105000            85.000000            260.000000     1.001960   \n",
       "\n",
       "                pH    sulphates      alcohol      quality  \n",
       "count  4469.000000  4469.000000  4469.000000  4469.000000  \n",
       "mean      3.187995     0.485413    10.537077     5.915194  \n",
       "std       0.143240     0.105729     1.223274     0.854036  \n",
       "min       2.790000     0.220000     8.400000     4.000000  \n",
       "25%       3.090000     0.410000     9.500000     5.000000  \n",
       "50%       3.180000     0.470000    10.400000     6.000000  \n",
       "75%       3.280000     0.540000    11.400000     6.000000  \n",
       "max       3.630000     0.820000    14.200000     8.000000  "
      ]
     },
     "execution_count": 8,
     "metadata": {},
     "output_type": "execute_result"
    }
   ],
   "source": [
    "w_df.describe()"
   ]
  },
  {
   "cell_type": "markdown",
   "metadata": {},
   "source": [
    "### Multicollinearity Assesment (move under residuals)"
   ]
  },
  {
   "cell_type": "code",
   "execution_count": 9,
   "metadata": {},
   "outputs": [],
   "source": [
    "# Check for multicollinearity with Variance Inflation Factor\n",
    "vif = pd.DataFrame()\n",
    "vif[\"VIF Factor\"] = [variance_inflation_factor(w_df.values, i) for i in range(w_df.shape[1])]\n",
    "vif[\"Physiochemical Variables\"] = w_df.columns"
   ]
  },
  {
   "cell_type": "code",
   "execution_count": 10,
   "metadata": {
    "scrolled": true
   },
   "outputs": [
    {
     "data": {
      "text/html": [
       "<style  type=\"text/css\" >\n",
       "</style><table id=\"T_35184954_cabd_11ea_8eed_8438354f2f3a\" ><thead>    <tr>        <th class=\"col_heading level0 col0\" >VIF Factor</th>        <th class=\"col_heading level0 col1\" >Physiochemical Variables</th>    </tr></thead><tbody>\n",
       "                <tr>\n",
       "                                <td id=\"T_35184954_cabd_11ea_8eed_8438354f2f3arow0_col0\" class=\"data row0 col0\" >4.200000</td>\n",
       "                        <td id=\"T_35184954_cabd_11ea_8eed_8438354f2f3arow0_col1\" class=\"data row0 col1\" >residual sugar</td>\n",
       "            </tr>\n",
       "            <tr>\n",
       "                                <td id=\"T_35184954_cabd_11ea_8eed_8438354f2f3arow1_col0\" class=\"data row1 col0\" >10.900000</td>\n",
       "                        <td id=\"T_35184954_cabd_11ea_8eed_8438354f2f3arow1_col1\" class=\"data row1 col1\" >free sulfur dioxide</td>\n",
       "            </tr>\n",
       "            <tr>\n",
       "                                <td id=\"T_35184954_cabd_11ea_8eed_8438354f2f3arow2_col0\" class=\"data row2 col0\" >13.000000</td>\n",
       "                        <td id=\"T_35184954_cabd_11ea_8eed_8438354f2f3arow2_col1\" class=\"data row2 col1\" >volatile acidity</td>\n",
       "            </tr>\n",
       "            <tr>\n",
       "                                <td id=\"T_35184954_cabd_11ea_8eed_8438354f2f3arow3_col0\" class=\"data row3 col0\" >13.200000</td>\n",
       "                        <td id=\"T_35184954_cabd_11ea_8eed_8438354f2f3arow3_col1\" class=\"data row3 col1\" >citric acid</td>\n",
       "            </tr>\n",
       "            <tr>\n",
       "                                <td id=\"T_35184954_cabd_11ea_8eed_8438354f2f3arow4_col0\" class=\"data row4 col0\" >21.200000</td>\n",
       "                        <td id=\"T_35184954_cabd_11ea_8eed_8438354f2f3arow4_col1\" class=\"data row4 col1\" >chlorides</td>\n",
       "            </tr>\n",
       "            <tr>\n",
       "                                <td id=\"T_35184954_cabd_11ea_8eed_8438354f2f3arow5_col0\" class=\"data row5 col0\" >23.600000</td>\n",
       "                        <td id=\"T_35184954_cabd_11ea_8eed_8438354f2f3arow5_col1\" class=\"data row5 col1\" >sulphates</td>\n",
       "            </tr>\n",
       "            <tr>\n",
       "                                <td id=\"T_35184954_cabd_11ea_8eed_8438354f2f3arow6_col0\" class=\"data row6 col0\" >26.600000</td>\n",
       "                        <td id=\"T_35184954_cabd_11ea_8eed_8438354f2f3arow6_col1\" class=\"data row6 col1\" >total sulfur dioxide</td>\n",
       "            </tr>\n",
       "            <tr>\n",
       "                                <td id=\"T_35184954_cabd_11ea_8eed_8438354f2f3arow7_col0\" class=\"data row7 col0\" >67.200000</td>\n",
       "                        <td id=\"T_35184954_cabd_11ea_8eed_8438354f2f3arow7_col1\" class=\"data row7 col1\" >quality</td>\n",
       "            </tr>\n",
       "            <tr>\n",
       "                                <td id=\"T_35184954_cabd_11ea_8eed_8438354f2f3arow8_col0\" class=\"data row8 col0\" >103.000000</td>\n",
       "                        <td id=\"T_35184954_cabd_11ea_8eed_8438354f2f3arow8_col1\" class=\"data row8 col1\" >fixed acidity</td>\n",
       "            </tr>\n",
       "            <tr>\n",
       "                                <td id=\"T_35184954_cabd_11ea_8eed_8438354f2f3arow9_col0\" class=\"data row9 col0\" >162.000000</td>\n",
       "                        <td id=\"T_35184954_cabd_11ea_8eed_8438354f2f3arow9_col1\" class=\"data row9 col1\" >alcohol</td>\n",
       "            </tr>\n",
       "            <tr>\n",
       "                                <td id=\"T_35184954_cabd_11ea_8eed_8438354f2f3arow10_col0\" class=\"data row10 col0\" >658.200000</td>\n",
       "                        <td id=\"T_35184954_cabd_11ea_8eed_8438354f2f3arow10_col1\" class=\"data row10 col1\" >pH</td>\n",
       "            </tr>\n",
       "            <tr>\n",
       "                                <td id=\"T_35184954_cabd_11ea_8eed_8438354f2f3arow11_col0\" class=\"data row11 col0\" >1159.300000</td>\n",
       "                        <td id=\"T_35184954_cabd_11ea_8eed_8438354f2f3arow11_col1\" class=\"data row11 col1\" >density</td>\n",
       "            </tr>\n",
       "    </tbody></table>"
      ],
      "text/plain": [
       "<pandas.io.formats.style.Styler at 0x7f8eb40e2590>"
      ]
     },
     "execution_count": 10,
     "metadata": {},
     "output_type": "execute_result"
    }
   ],
   "source": [
    "vif_df = vif.sort_values(by=[\"VIF Factor\"]).round(1)\n",
    "vif_df.style.hide_index()\n"
   ]
  },
  {
   "cell_type": "markdown",
   "metadata": {},
   "source": [
    "Multicollinearity assesment through correlation + visual"
   ]
  },
  {
   "cell_type": "code",
   "execution_count": 11,
   "metadata": {},
   "outputs": [
    {
     "data": {
      "text/html": [
       "<div>\n",
       "<style scoped>\n",
       "    .dataframe tbody tr th:only-of-type {\n",
       "        vertical-align: middle;\n",
       "    }\n",
       "\n",
       "    .dataframe tbody tr th {\n",
       "        vertical-align: top;\n",
       "    }\n",
       "\n",
       "    .dataframe thead th {\n",
       "        text-align: right;\n",
       "    }\n",
       "</style>\n",
       "<table border=\"1\" class=\"dataframe\">\n",
       "  <thead>\n",
       "    <tr style=\"text-align: right;\">\n",
       "      <th></th>\n",
       "      <th>fixed acidity</th>\n",
       "      <th>volatile acidity</th>\n",
       "      <th>citric acid</th>\n",
       "      <th>residual sugar</th>\n",
       "      <th>chlorides</th>\n",
       "      <th>free sulfur dioxide</th>\n",
       "      <th>total sulfur dioxide</th>\n",
       "      <th>density</th>\n",
       "      <th>pH</th>\n",
       "      <th>sulphates</th>\n",
       "      <th>alcohol</th>\n",
       "    </tr>\n",
       "  </thead>\n",
       "  <tbody>\n",
       "    <tr>\n",
       "      <th>fixed acidity</th>\n",
       "      <td>1.000000</td>\n",
       "      <td>-0.042913</td>\n",
       "      <td>0.289142</td>\n",
       "      <td>0.080289</td>\n",
       "      <td>0.081039</td>\n",
       "      <td>-0.026578</td>\n",
       "      <td>0.084540</td>\n",
       "      <td>0.253026</td>\n",
       "      <td>-0.400241</td>\n",
       "      <td>-0.010761</td>\n",
       "      <td>-0.108196</td>\n",
       "    </tr>\n",
       "    <tr>\n",
       "      <th>volatile acidity</th>\n",
       "      <td>-0.042913</td>\n",
       "      <td>1.000000</td>\n",
       "      <td>-0.148165</td>\n",
       "      <td>0.057970</td>\n",
       "      <td>0.008541</td>\n",
       "      <td>-0.076459</td>\n",
       "      <td>0.107190</td>\n",
       "      <td>-0.008127</td>\n",
       "      <td>-0.030932</td>\n",
       "      <td>-0.044355</td>\n",
       "      <td>0.084324</td>\n",
       "    </tr>\n",
       "    <tr>\n",
       "      <th>citric acid</th>\n",
       "      <td>0.289142</td>\n",
       "      <td>-0.148165</td>\n",
       "      <td>1.000000</td>\n",
       "      <td>0.089171</td>\n",
       "      <td>0.031330</td>\n",
       "      <td>0.123323</td>\n",
       "      <td>0.123305</td>\n",
       "      <td>0.138733</td>\n",
       "      <td>-0.147017</td>\n",
       "      <td>0.069485</td>\n",
       "      <td>-0.061283</td>\n",
       "    </tr>\n",
       "    <tr>\n",
       "      <th>residual sugar</th>\n",
       "      <td>0.080289</td>\n",
       "      <td>0.057970</td>\n",
       "      <td>0.089171</td>\n",
       "      <td>1.000000</td>\n",
       "      <td>0.247388</td>\n",
       "      <td>0.356420</td>\n",
       "      <td>0.419974</td>\n",
       "      <td>0.840689</td>\n",
       "      <td>-0.196144</td>\n",
       "      <td>-0.016077</td>\n",
       "      <td>-0.484385</td>\n",
       "    </tr>\n",
       "    <tr>\n",
       "      <th>chlorides</th>\n",
       "      <td>0.081039</td>\n",
       "      <td>0.008541</td>\n",
       "      <td>0.031330</td>\n",
       "      <td>0.247388</td>\n",
       "      <td>1.000000</td>\n",
       "      <td>0.129316</td>\n",
       "      <td>0.331533</td>\n",
       "      <td>0.461651</td>\n",
       "      <td>-0.034919</td>\n",
       "      <td>0.072830</td>\n",
       "      <td>-0.517034</td>\n",
       "    </tr>\n",
       "    <tr>\n",
       "      <th>free sulfur dioxide</th>\n",
       "      <td>-0.026578</td>\n",
       "      <td>-0.076459</td>\n",
       "      <td>0.123323</td>\n",
       "      <td>0.356420</td>\n",
       "      <td>0.129316</td>\n",
       "      <td>1.000000</td>\n",
       "      <td>0.615583</td>\n",
       "      <td>0.347031</td>\n",
       "      <td>-0.013277</td>\n",
       "      <td>0.074763</td>\n",
       "      <td>-0.264189</td>\n",
       "    </tr>\n",
       "    <tr>\n",
       "      <th>total sulfur dioxide</th>\n",
       "      <td>0.084540</td>\n",
       "      <td>0.107190</td>\n",
       "      <td>0.123305</td>\n",
       "      <td>0.419974</td>\n",
       "      <td>0.331533</td>\n",
       "      <td>0.615583</td>\n",
       "      <td>1.000000</td>\n",
       "      <td>0.553865</td>\n",
       "      <td>0.006021</td>\n",
       "      <td>0.152495</td>\n",
       "      <td>-0.463323</td>\n",
       "    </tr>\n",
       "    <tr>\n",
       "      <th>density</th>\n",
       "      <td>0.253026</td>\n",
       "      <td>-0.008127</td>\n",
       "      <td>0.138733</td>\n",
       "      <td>0.840689</td>\n",
       "      <td>0.461651</td>\n",
       "      <td>0.347031</td>\n",
       "      <td>0.553865</td>\n",
       "      <td>1.000000</td>\n",
       "      <td>-0.081944</td>\n",
       "      <td>0.098147</td>\n",
       "      <td>-0.816044</td>\n",
       "    </tr>\n",
       "    <tr>\n",
       "      <th>pH</th>\n",
       "      <td>-0.400241</td>\n",
       "      <td>-0.030932</td>\n",
       "      <td>-0.147017</td>\n",
       "      <td>-0.196144</td>\n",
       "      <td>-0.034919</td>\n",
       "      <td>-0.013277</td>\n",
       "      <td>0.006021</td>\n",
       "      <td>-0.081944</td>\n",
       "      <td>1.000000</td>\n",
       "      <td>0.161516</td>\n",
       "      <td>0.097165</td>\n",
       "    </tr>\n",
       "    <tr>\n",
       "      <th>sulphates</th>\n",
       "      <td>-0.010761</td>\n",
       "      <td>-0.044355</td>\n",
       "      <td>0.069485</td>\n",
       "      <td>-0.016077</td>\n",
       "      <td>0.072830</td>\n",
       "      <td>0.074763</td>\n",
       "      <td>0.152495</td>\n",
       "      <td>0.098147</td>\n",
       "      <td>0.161516</td>\n",
       "      <td>1.000000</td>\n",
       "      <td>-0.057007</td>\n",
       "    </tr>\n",
       "    <tr>\n",
       "      <th>alcohol</th>\n",
       "      <td>-0.108196</td>\n",
       "      <td>0.084324</td>\n",
       "      <td>-0.061283</td>\n",
       "      <td>-0.484385</td>\n",
       "      <td>-0.517034</td>\n",
       "      <td>-0.264189</td>\n",
       "      <td>-0.463323</td>\n",
       "      <td>-0.816044</td>\n",
       "      <td>0.097165</td>\n",
       "      <td>-0.057007</td>\n",
       "      <td>1.000000</td>\n",
       "    </tr>\n",
       "  </tbody>\n",
       "</table>\n",
       "</div>"
      ],
      "text/plain": [
       "                      fixed acidity  volatile acidity  citric acid  \\\n",
       "fixed acidity              1.000000         -0.042913     0.289142   \n",
       "volatile acidity          -0.042913          1.000000    -0.148165   \n",
       "citric acid                0.289142         -0.148165     1.000000   \n",
       "residual sugar             0.080289          0.057970     0.089171   \n",
       "chlorides                  0.081039          0.008541     0.031330   \n",
       "free sulfur dioxide       -0.026578         -0.076459     0.123323   \n",
       "total sulfur dioxide       0.084540          0.107190     0.123305   \n",
       "density                    0.253026         -0.008127     0.138733   \n",
       "pH                        -0.400241         -0.030932    -0.147017   \n",
       "sulphates                 -0.010761         -0.044355     0.069485   \n",
       "alcohol                   -0.108196          0.084324    -0.061283   \n",
       "\n",
       "                      residual sugar  chlorides  free sulfur dioxide  \\\n",
       "fixed acidity               0.080289   0.081039            -0.026578   \n",
       "volatile acidity            0.057970   0.008541            -0.076459   \n",
       "citric acid                 0.089171   0.031330             0.123323   \n",
       "residual sugar              1.000000   0.247388             0.356420   \n",
       "chlorides                   0.247388   1.000000             0.129316   \n",
       "free sulfur dioxide         0.356420   0.129316             1.000000   \n",
       "total sulfur dioxide        0.419974   0.331533             0.615583   \n",
       "density                     0.840689   0.461651             0.347031   \n",
       "pH                         -0.196144  -0.034919            -0.013277   \n",
       "sulphates                  -0.016077   0.072830             0.074763   \n",
       "alcohol                    -0.484385  -0.517034            -0.264189   \n",
       "\n",
       "                      total sulfur dioxide   density        pH  sulphates  \\\n",
       "fixed acidity                     0.084540  0.253026 -0.400241  -0.010761   \n",
       "volatile acidity                  0.107190 -0.008127 -0.030932  -0.044355   \n",
       "citric acid                       0.123305  0.138733 -0.147017   0.069485   \n",
       "residual sugar                    0.419974  0.840689 -0.196144  -0.016077   \n",
       "chlorides                         0.331533  0.461651 -0.034919   0.072830   \n",
       "free sulfur dioxide               0.615583  0.347031 -0.013277   0.074763   \n",
       "total sulfur dioxide              1.000000  0.553865  0.006021   0.152495   \n",
       "density                           0.553865  1.000000 -0.081944   0.098147   \n",
       "pH                                0.006021 -0.081944  1.000000   0.161516   \n",
       "sulphates                         0.152495  0.098147  0.161516   1.000000   \n",
       "alcohol                          -0.463323 -0.816044  0.097165  -0.057007   \n",
       "\n",
       "                       alcohol  \n",
       "fixed acidity        -0.108196  \n",
       "volatile acidity      0.084324  \n",
       "citric acid          -0.061283  \n",
       "residual sugar       -0.484385  \n",
       "chlorides            -0.517034  \n",
       "free sulfur dioxide  -0.264189  \n",
       "total sulfur dioxide -0.463323  \n",
       "density              -0.816044  \n",
       "pH                    0.097165  \n",
       "sulphates            -0.057007  \n",
       "alcohol               1.000000  "
      ]
     },
     "execution_count": 11,
     "metadata": {},
     "output_type": "execute_result"
    }
   ],
   "source": [
    "phys_c = w_df.drop(\"quality\", axis = 1)\n",
    "phys_corr = phys_c.corr()\n",
    "phys_corr"
   ]
  },
  {
   "cell_type": "code",
   "execution_count": 12,
   "metadata": {},
   "outputs": [
    {
     "data": {
      "text/plain": [
       "Text(0.5, 1, 'Correlation among the predictors')"
      ]
     },
     "execution_count": 12,
     "metadata": {},
     "output_type": "execute_result"
    },
    {
     "data": {
      "image/png": "[encoded data removed]",
      "text/plain": [
       "<Figure size 864x720 with 2 Axes>"
      ]
     },
     "metadata": {
      "needs_background": "light"
     },
     "output_type": "display_data"
    }
   ],
   "source": [
    "#Displays the the correlation (r, not r^2 like VIF) between each independent variable to oneanother (physochemical var's, excludes quality) \n",
    "#to provide additional evidence of collinearity\n",
    "import seaborn as sns \n",
    "corr = vif_df.corr()\n",
    "fig = plt.subplots(figsize=(12,10))\n",
    "sns.heatmap(phys_corr,square=True,annot=True,cmap='YlGnBu')\n",
    "plt.title(\"Correlation among the predictors\")"
   ]
  },
  {
   "cell_type": "markdown",
   "metadata": {},
   "source": [
    "# Multiple Regression Analysis "
   ]
  },
  {
   "cell_type": "code",
   "execution_count": 13,
   "metadata": {
    "scrolled": true
   },
   "outputs": [
    {
     "name": "stdout",
     "output_type": "stream",
     "text": [
      "(4469, 11) (4469, 1)\n"
     ]
    }
   ],
   "source": [
    "X = w_df[w_df.columns[0:11]]\n",
    "y = w_df[\"quality\"].values.reshape(-1, 1)\n",
    "print(X.shape, y.shape)"
   ]
  },
  {
   "cell_type": "code",
   "execution_count": 14,
   "metadata": {},
   "outputs": [],
   "source": [
    "from sklearn.linear_model import LinearRegression\n",
    "model = LinearRegression()"
   ]
  },
  {
   "cell_type": "code",
   "execution_count": 15,
   "metadata": {},
   "outputs": [],
   "source": [
    "from sklearn.model_selection import train_test_split\n",
    "X_train, X_test, y_train, y_test = train_test_split(X, y, random_state=42)"
   ]
  },
  {
   "cell_type": "code",
   "execution_count": 16,
   "metadata": {
    "scrolled": true
   },
   "outputs": [
    {
     "name": "stdout",
     "output_type": "stream",
     "text": [
      "Training Score: 0.2730836711910942\n",
      "Testing Score: 0.3005423313846439\n"
     ]
    }
   ],
   "source": [
    "model.fit(X_train, y_train)\n",
    "training_score = model.score(X_train, y_train)\n",
    "testing_score = model.score(X_test, y_test)\n",
    "\n",
    "print(f\"Training Score: {training_score}\")\n",
    "print(f\"Testing Score: {testing_score}\")"
   ]
  },
  {
   "cell_type": "markdown",
   "metadata": {},
   "source": [
    "# Assumption Testing\n",
    "\n",
    "To check the validity of the model's results we will need to look at:\n",
    "\n",
    "-Linearity\n",
    "-Multicollinearity\n",
    "-Residuals\n",
    "\n",
    "\n",
    "Assuming these tests withold, I will beging to look at ways to improve the existing model (Principle Component Analysis) and explore other models to identify the most accurate one (Ordinal Regression, Bayes, etc.)"
   ]
  },
  {
   "cell_type": "markdown",
   "metadata": {},
   "source": [
    "### Residuals"
   ]
  },
  {
   "cell_type": "code",
   "execution_count": 17,
   "metadata": {},
   "outputs": [
    {
     "data": {
      "text/plain": [
       "Text(0.5, 1.0, 'Residual Plot')"
      ]
     },
     "execution_count": 17,
     "metadata": {},
     "output_type": "execute_result"
    },
    {
     "data": {
      "image/png": "[encoded data removed]",
      "text/plain": [
       "<Figure size 432x288 with 1 Axes>"
      ]
     },
     "metadata": {
      "needs_background": "light"
     },
     "output_type": "display_data"
    }
   ],
   "source": [
    "plt.scatter(model.predict(X_train), model.predict(X_train) - y_train, c=\"blue\", label=\"Training Data\")\n",
    "plt.scatter(model.predict(X_test), model.predict(X_test) - y_test, c=\"orange\", label=\"Testing Data\")\n",
    "\n",
    "plt.legend()\n",
    "\n",
    "plt.hlines(y=0, xmin=y.min(), xmax=y.max())\n",
    "plt.xlabel(\"Predicted Values\")\n",
    "plt.ylabel(\"Residual Values\")\n",
    "plt.title(\"Residual Plot\")"
   ]
  },
  {
   "cell_type": "markdown",
   "metadata": {},
   "source": [
    "### Linear Relationship Check"
   ]
  },
  {
   "cell_type": "code",
   "execution_count": 18,
   "metadata": {},
   "outputs": [
    {
     "name": "stdout",
     "output_type": "stream",
     "text": [
      "(4469, 11) (4469, 1)\n"
     ]
    }
   ],
   "source": [
    "x_scat = w_df[w_df.columns[0:11]]\n",
    "y_scat = w_df[\"quality\"].values.reshape(-1, 1)\n",
    "\n",
    "print(x_scat.shape,y_scat.shape)\n",
    "\n",
    "# plt.scatter(x_scat,y_scat)\n",
    "# plt.show()\n",
    "\n",
    "# X = w_df[w_df.columns[0:11]]\n",
    "# y = w_df[\"quality\"].values.reshape(-1, 1)\n",
    "# print(X.shape, y.shape)"
   ]
  },
  {
   "cell_type": "code",
   "execution_count": 19,
   "metadata": {
    "scrolled": true
   },
   "outputs": [
    {
     "data": {
      "image/png": "[encoded data removed]",
      "text/plain": [
       "<Figure size 432x288 with 1 Axes>"
      ]
     },
     "metadata": {
      "needs_background": "light"
     },
     "output_type": "display_data"
    },
    {
     "data": {
      "image/png": "[encoded data removed]",
      "text/plain": [
       "<Figure size 432x288 with 1 Axes>"
      ]
     },
     "metadata": {
      "needs_background": "light"
     },
     "output_type": "display_data"
    },
    {
     "data": {
      "image/png": "[encoded data removed]",
      "text/plain": [
       "<Figure size 432x288 with 1 Axes>"
      ]
     },
     "metadata": {
      "needs_background": "light"
     },
     "output_type": "display_data"
    },
    {
     "data": {
      "image/png": "[encoded data removed]",
      "text/plain": [
       "<Figure size 432x288 with 1 Axes>"
      ]
     },
     "metadata": {
      "needs_background": "light"
     },
     "output_type": "display_data"
    },
    {
     "data": {
      "image/png": "[encoded data removed]",
      "text/plain": [
       "<Figure size 432x288 with 1 Axes>"
      ]
     },
     "metadata": {
      "needs_background": "light"
     },
     "output_type": "display_data"
    },
    {
     "data": {
      "image/png": "[encoded data removed]",
      "text/plain": [
       "<Figure size 432x288 with 1 Axes>"
      ]
     },
     "metadata": {
      "needs_background": "light"
     },
     "output_type": "display_data"
    },
    {
     "data": {
      "image/png": "[encoded data removed]",
      "text/plain": [
       "<Figure size 432x288 with 1 Axes>"
      ]
     },
     "metadata": {
      "needs_background": "light"
     },
     "output_type": "display_data"
    },
    {
     "data": {
      "image/png": "[encoded data removed]",
      "text/plain": [
       "<Figure size 432x288 with 1 Axes>"
      ]
     },
     "metadata": {
      "needs_background": "light"
     },
     "output_type": "display_data"
    },
    {
     "data": {
      "image/png": "[encoded data removed]",
      "text/plain": [
       "<Figure size 432x288 with 1 Axes>"
      ]
     },
     "metadata": {
      "needs_background": "light"
     },
     "output_type": "display_data"
    },
    {
     "data": {
      "image/png": "[encoded data removed]",
      "text/plain": [
       "<Figure size 432x288 with 1 Axes>"
      ]
     },
     "metadata": {
      "needs_background": "light"
     },
     "output_type": "display_data"
    },
    {
     "data": {
      "image/png": "[encoded data removed]",
      "text/plain": [
       "<Figure size 432x288 with 1 Axes>"
      ]
     },
     "metadata": {
      "needs_background": "light"
     },
     "output_type": "display_data"
    },
    {
     "data": {
      "image/png": "[encoded data removed]",
      "text/plain": [
       "<Figure size 432x288 with 1 Axes>"
      ]
     },
     "metadata": {
      "needs_background": "light"
     },
     "output_type": "display_data"
    }
   ],
   "source": [
    "from scipy.stats import linregress\n",
    "for x in w_df:\n",
    "    x_values = w_df[f\"{x}\"]\n",
    "    y_values = w_df['quality']\n",
    "    (slope, intercept, rvalue, pvalue, stderr) = linregress(x_values, y_values)\n",
    "    regress_values = x_values * slope + intercept\n",
    "    plt.scatter(x_values, y_values)\n",
    "    plt.plot(x_values, regress_values, \"r-\")\n",
    "    plt.xlabel(f\"{x}\")\n",
    "    plt.ylabel('quality')\n",
    "    plt.show()"
   ]
  },
  {
   "cell_type": "code",
   "execution_count": 20,
   "metadata": {},
   "outputs": [
    {
     "data": {
      "text/html": [
       "<div>\n",
       "<style scoped>\n",
       "    .dataframe tbody tr th:only-of-type {\n",
       "        vertical-align: middle;\n",
       "    }\n",
       "\n",
       "    .dataframe tbody tr th {\n",
       "        vertical-align: top;\n",
       "    }\n",
       "\n",
       "    .dataframe thead th {\n",
       "        text-align: right;\n",
       "    }\n",
       "</style>\n",
       "<table border=\"1\" class=\"dataframe\">\n",
       "  <thead>\n",
       "    <tr style=\"text-align: right;\">\n",
       "      <th></th>\n",
       "      <th>quality</th>\n",
       "    </tr>\n",
       "  </thead>\n",
       "  <tbody>\n",
       "    <tr>\n",
       "      <th>alcohol</th>\n",
       "      <td>0.44</td>\n",
       "    </tr>\n",
       "    <tr>\n",
       "      <th>pH</th>\n",
       "      <td>0.09</td>\n",
       "    </tr>\n",
       "    <tr>\n",
       "      <th>sulphates</th>\n",
       "      <td>0.04</td>\n",
       "    </tr>\n",
       "    <tr>\n",
       "      <th>free sulfur dioxide</th>\n",
       "      <td>0.02</td>\n",
       "    </tr>\n",
       "    <tr>\n",
       "      <th>citric acid</th>\n",
       "      <td>0.00</td>\n",
       "    </tr>\n",
       "    <tr>\n",
       "      <th>fixed acidity</th>\n",
       "      <td>-0.09</td>\n",
       "    </tr>\n",
       "    <tr>\n",
       "      <th>residual sugar</th>\n",
       "      <td>-0.11</td>\n",
       "    </tr>\n",
       "    <tr>\n",
       "      <th>volatile acidity</th>\n",
       "      <td>-0.14</td>\n",
       "    </tr>\n",
       "    <tr>\n",
       "      <th>total sulfur dioxide</th>\n",
       "      <td>-0.17</td>\n",
       "    </tr>\n",
       "    <tr>\n",
       "      <th>chlorides</th>\n",
       "      <td>-0.30</td>\n",
       "    </tr>\n",
       "    <tr>\n",
       "      <th>density</th>\n",
       "      <td>-0.31</td>\n",
       "    </tr>\n",
       "  </tbody>\n",
       "</table>\n",
       "</div>"
      ],
      "text/plain": [
       "                      quality\n",
       "alcohol                  0.44\n",
       "pH                       0.09\n",
       "sulphates                0.04\n",
       "free sulfur dioxide      0.02\n",
       "citric acid              0.00\n",
       "fixed acidity           -0.09\n",
       "residual sugar          -0.11\n",
       "volatile acidity        -0.14\n",
       "total sulfur dioxide    -0.17\n",
       "chlorides               -0.30\n",
       "density                 -0.31"
      ]
     },
     "execution_count": 20,
     "metadata": {},
     "output_type": "execute_result"
    }
   ],
   "source": [
    "r_2 = w_df.corr()\n",
    "lin_reg =r_2[\"quality\"].sort_values(ascending=False).round(2)\n",
    "\n",
    "lin_reg_df = lin_reg.to_frame()\n",
    "lin_reg_df.drop([\"quality\"])"
   ]
  },
  {
   "cell_type": "markdown",
   "metadata": {},
   "source": [
    "# Multiple Regression Analysis (2) with Principle Component Analysis "
   ]
  },
  {
   "cell_type": "markdown",
   "metadata": {},
   "source": [
    "## PCA"
   ]
  },
  {
   "cell_type": "code",
   "execution_count": 50,
   "metadata": {},
   "outputs": [
    {
     "data": {
      "text/html": [
       "<div>\n",
       "<style scoped>\n",
       "    .dataframe tbody tr th:only-of-type {\n",
       "        vertical-align: middle;\n",
       "    }\n",
       "\n",
       "    .dataframe tbody tr th {\n",
       "        vertical-align: top;\n",
       "    }\n",
       "\n",
       "    .dataframe thead th {\n",
       "        text-align: right;\n",
       "    }\n",
       "</style>\n",
       "<table border=\"1\" class=\"dataframe\">\n",
       "  <thead>\n",
       "    <tr style=\"text-align: right;\">\n",
       "      <th></th>\n",
       "      <th>fixed acidity</th>\n",
       "      <th>volatile acidity</th>\n",
       "      <th>citric acid</th>\n",
       "      <th>residual sugar</th>\n",
       "      <th>chlorides</th>\n",
       "      <th>free sulfur dioxide</th>\n",
       "      <th>total sulfur dioxide</th>\n",
       "      <th>density</th>\n",
       "      <th>pH</th>\n",
       "      <th>sulphates</th>\n",
       "      <th>alcohol</th>\n",
       "    </tr>\n",
       "  </thead>\n",
       "  <tbody>\n",
       "    <tr>\n",
       "      <th>0</th>\n",
       "      <td>7.0</td>\n",
       "      <td>0.27</td>\n",
       "      <td>0.36</td>\n",
       "      <td>20.7</td>\n",
       "      <td>0.045</td>\n",
       "      <td>45.0</td>\n",
       "      <td>170.0</td>\n",
       "      <td>1.00100</td>\n",
       "      <td>3.00</td>\n",
       "      <td>0.45</td>\n",
       "      <td>8.8</td>\n",
       "    </tr>\n",
       "    <tr>\n",
       "      <th>1</th>\n",
       "      <td>6.3</td>\n",
       "      <td>0.30</td>\n",
       "      <td>0.34</td>\n",
       "      <td>1.6</td>\n",
       "      <td>0.049</td>\n",
       "      <td>14.0</td>\n",
       "      <td>132.0</td>\n",
       "      <td>0.99400</td>\n",
       "      <td>3.30</td>\n",
       "      <td>0.49</td>\n",
       "      <td>9.5</td>\n",
       "    </tr>\n",
       "    <tr>\n",
       "      <th>2</th>\n",
       "      <td>8.1</td>\n",
       "      <td>0.28</td>\n",
       "      <td>0.40</td>\n",
       "      <td>6.9</td>\n",
       "      <td>0.050</td>\n",
       "      <td>30.0</td>\n",
       "      <td>97.0</td>\n",
       "      <td>0.99510</td>\n",
       "      <td>3.26</td>\n",
       "      <td>0.44</td>\n",
       "      <td>10.1</td>\n",
       "    </tr>\n",
       "    <tr>\n",
       "      <th>3</th>\n",
       "      <td>7.2</td>\n",
       "      <td>0.23</td>\n",
       "      <td>0.32</td>\n",
       "      <td>8.5</td>\n",
       "      <td>0.058</td>\n",
       "      <td>47.0</td>\n",
       "      <td>186.0</td>\n",
       "      <td>0.99560</td>\n",
       "      <td>3.19</td>\n",
       "      <td>0.40</td>\n",
       "      <td>9.9</td>\n",
       "    </tr>\n",
       "    <tr>\n",
       "      <th>4</th>\n",
       "      <td>7.2</td>\n",
       "      <td>0.23</td>\n",
       "      <td>0.32</td>\n",
       "      <td>8.5</td>\n",
       "      <td>0.058</td>\n",
       "      <td>47.0</td>\n",
       "      <td>186.0</td>\n",
       "      <td>0.99560</td>\n",
       "      <td>3.19</td>\n",
       "      <td>0.40</td>\n",
       "      <td>9.9</td>\n",
       "    </tr>\n",
       "    <tr>\n",
       "      <th>...</th>\n",
       "      <td>...</td>\n",
       "      <td>...</td>\n",
       "      <td>...</td>\n",
       "      <td>...</td>\n",
       "      <td>...</td>\n",
       "      <td>...</td>\n",
       "      <td>...</td>\n",
       "      <td>...</td>\n",
       "      <td>...</td>\n",
       "      <td>...</td>\n",
       "      <td>...</td>\n",
       "    </tr>\n",
       "    <tr>\n",
       "      <th>4893</th>\n",
       "      <td>6.2</td>\n",
       "      <td>0.21</td>\n",
       "      <td>0.29</td>\n",
       "      <td>1.6</td>\n",
       "      <td>0.039</td>\n",
       "      <td>24.0</td>\n",
       "      <td>92.0</td>\n",
       "      <td>0.99114</td>\n",
       "      <td>3.27</td>\n",
       "      <td>0.50</td>\n",
       "      <td>11.2</td>\n",
       "    </tr>\n",
       "    <tr>\n",
       "      <th>4894</th>\n",
       "      <td>6.6</td>\n",
       "      <td>0.32</td>\n",
       "      <td>0.36</td>\n",
       "      <td>8.0</td>\n",
       "      <td>0.047</td>\n",
       "      <td>57.0</td>\n",
       "      <td>168.0</td>\n",
       "      <td>0.99490</td>\n",
       "      <td>3.15</td>\n",
       "      <td>0.46</td>\n",
       "      <td>9.6</td>\n",
       "    </tr>\n",
       "    <tr>\n",
       "      <th>4895</th>\n",
       "      <td>6.5</td>\n",
       "      <td>0.24</td>\n",
       "      <td>0.19</td>\n",
       "      <td>1.2</td>\n",
       "      <td>0.041</td>\n",
       "      <td>30.0</td>\n",
       "      <td>111.0</td>\n",
       "      <td>0.99254</td>\n",
       "      <td>2.99</td>\n",
       "      <td>0.46</td>\n",
       "      <td>9.4</td>\n",
       "    </tr>\n",
       "    <tr>\n",
       "      <th>4896</th>\n",
       "      <td>5.5</td>\n",
       "      <td>0.29</td>\n",
       "      <td>0.30</td>\n",
       "      <td>1.1</td>\n",
       "      <td>0.022</td>\n",
       "      <td>20.0</td>\n",
       "      <td>110.0</td>\n",
       "      <td>0.98869</td>\n",
       "      <td>3.34</td>\n",
       "      <td>0.38</td>\n",
       "      <td>12.8</td>\n",
       "    </tr>\n",
       "    <tr>\n",
       "      <th>4897</th>\n",
       "      <td>6.0</td>\n",
       "      <td>0.21</td>\n",
       "      <td>0.38</td>\n",
       "      <td>0.8</td>\n",
       "      <td>0.020</td>\n",
       "      <td>22.0</td>\n",
       "      <td>98.0</td>\n",
       "      <td>0.98941</td>\n",
       "      <td>3.26</td>\n",
       "      <td>0.32</td>\n",
       "      <td>11.8</td>\n",
       "    </tr>\n",
       "  </tbody>\n",
       "</table>\n",
       "<p>4469 rows × 11 columns</p>\n",
       "</div>"
      ],
      "text/plain": [
       "      fixed acidity  volatile acidity  citric acid  residual sugar  chlorides  \\\n",
       "0               7.0              0.27         0.36            20.7      0.045   \n",
       "1               6.3              0.30         0.34             1.6      0.049   \n",
       "2               8.1              0.28         0.40             6.9      0.050   \n",
       "3               7.2              0.23         0.32             8.5      0.058   \n",
       "4               7.2              0.23         0.32             8.5      0.058   \n",
       "...             ...               ...          ...             ...        ...   \n",
       "4893            6.2              0.21         0.29             1.6      0.039   \n",
       "4894            6.6              0.32         0.36             8.0      0.047   \n",
       "4895            6.5              0.24         0.19             1.2      0.041   \n",
       "4896            5.5              0.29         0.30             1.1      0.022   \n",
       "4897            6.0              0.21         0.38             0.8      0.020   \n",
       "\n",
       "      free sulfur dioxide  total sulfur dioxide  density    pH  sulphates  \\\n",
       "0                    45.0                 170.0  1.00100  3.00       0.45   \n",
       "1                    14.0                 132.0  0.99400  3.30       0.49   \n",
       "2                    30.0                  97.0  0.99510  3.26       0.44   \n",
       "3                    47.0                 186.0  0.99560  3.19       0.40   \n",
       "4                    47.0                 186.0  0.99560  3.19       0.40   \n",
       "...                   ...                   ...      ...   ...        ...   \n",
       "4893                 24.0                  92.0  0.99114  3.27       0.50   \n",
       "4894                 57.0                 168.0  0.99490  3.15       0.46   \n",
       "4895                 30.0                 111.0  0.99254  2.99       0.46   \n",
       "4896                 20.0                 110.0  0.98869  3.34       0.38   \n",
       "4897                 22.0                  98.0  0.98941  3.26       0.32   \n",
       "\n",
       "      alcohol  \n",
       "0         8.8  \n",
       "1         9.5  \n",
       "2        10.1  \n",
       "3         9.9  \n",
       "4         9.9  \n",
       "...       ...  \n",
       "4893     11.2  \n",
       "4894      9.6  \n",
       "4895      9.4  \n",
       "4896     12.8  \n",
       "4897     11.8  \n",
       "\n",
       "[4469 rows x 11 columns]"
      ]
     },
     "execution_count": 50,
     "metadata": {},
     "output_type": "execute_result"
    }
   ],
   "source": [
    "pca_df = w_df[w_df.columns[0:11]]\n",
    "pca_df"
   ]
  },
  {
   "cell_type": "code",
   "execution_count": 52,
   "metadata": {},
   "outputs": [
    {
     "data": {
      "text/plain": [
       "StandardScaler(copy=True, with_mean=True, with_std=True)"
      ]
     },
     "execution_count": 52,
     "metadata": {},
     "output_type": "execute_result"
    }
   ],
   "source": [
    "from sklearn.preprocessing import StandardScaler\n",
    "scaler = StandardScaler()\n",
    "scaler.fit(pca_df)"
   ]
  },
  {
   "cell_type": "code",
   "execution_count": 54,
   "metadata": {
    "scrolled": false
   },
   "outputs": [
    {
     "data": {
      "text/plain": [
       "array([[ 0.20256617, -0.00729441,  0.33018935, ..., -1.31259244,\n",
       "        -0.33497762, -1.42018181],\n",
       "       [-0.68913543,  0.34512419,  0.13190714, ...,  0.78202481,\n",
       "         0.04339088, -0.84788287],\n",
       "       [ 1.60381154,  0.11017846,  0.72675377, ...,  0.50274251,\n",
       "        -0.42956974, -0.35734092],\n",
       "       ...,\n",
       "       [-0.43436355, -0.35971302, -1.35520943, ..., -1.38241302,\n",
       "        -0.24038549, -0.92963986],\n",
       "       [-1.70822298,  0.22765133, -0.26465728, ...,  1.06130712,\n",
       "        -0.99712249,  1.85009784],\n",
       "       [-1.07129326, -0.71213162,  0.52847156, ...,  0.50274251,\n",
       "        -1.56467524,  1.03252793]])"
      ]
     },
     "execution_count": 54,
     "metadata": {},
     "output_type": "execute_result"
    }
   ],
   "source": [
    "scaled_data = scaler.transform(pca_df)\n",
    "scaled_data"
   ]
  },
  {
   "cell_type": "code",
   "execution_count": 57,
   "metadata": {
    "scrolled": true
   },
   "outputs": [
    {
     "data": {
      "text/plain": [
       "(4469, 11)"
      ]
     },
     "execution_count": 57,
     "metadata": {},
     "output_type": "execute_result"
    }
   ],
   "source": [
    "scaled_data.shape"
   ]
  },
  {
   "cell_type": "code",
   "execution_count": 73,
   "metadata": {},
   "outputs": [
    {
     "data": {
      "text/plain": [
       "(4469, 2)"
      ]
     },
     "execution_count": 73,
     "metadata": {},
     "output_type": "execute_result"
    }
   ],
   "source": [
    "from sklearn.decomposition import PCA\n",
    "pca = PCA(n_components=2)\n",
    "pc = pca.fit_transform(scaled_data)\n",
    "pc.shape"
   ]
  },
  {
   "cell_type": "code",
   "execution_count": 113,
   "metadata": {},
   "outputs": [],
   "source": [
    "principalDf = pd.DataFrame(data = pc\n",
    "             , columns = ['principal component 1', 'principal component 2'])\n",
    "\n",
    "pca_analysis = pd.DataFrame(pd.concat([principalDf, w_df[['quality']]], axis = 1))\n",
    "pca_analysis.round(1)\n",
    "pca_analysis_ = pca_analysis.dropna()"
   ]
  },
  {
   "cell_type": "code",
   "execution_count": 114,
   "metadata": {
    "scrolled": false
   },
   "outputs": [
    {
     "data": {
      "text/plain": [
       "<function matplotlib.pyplot.show(*args, **kw)>"
      ]
     },
     "execution_count": 114,
     "metadata": {},
     "output_type": "execute_result"
    },
    {
     "data": {
      "image/png": "[encoded data removed]",
      "text/plain": [
       "<Figure size 432x288 with 1 Axes>"
      ]
     },
     "metadata": {
      "needs_background": "light"
     },
     "output_type": "display_data"
    }
   ],
   "source": [
    "plt.scatter(pca_analysis_[\"principal component 1\"],pca_analysis_[\"principal component 2\"],pca_analysis_[\"quality\"])\n",
    "plt.xlabel(\"pca_1\")\n",
    "plt.ylabel(\"pca_2\")\n",
    "plt.show\n"
   ]
  },
  {
   "cell_type": "code",
   "execution_count": 70,
   "metadata": {},
   "outputs": [
    {
     "data": {
      "text/plain": [
       "array([0.31431532, 0.14101743])"
      ]
     },
     "execution_count": 70,
     "metadata": {},
     "output_type": "execute_result"
    }
   ],
   "source": [
    "The first two pca values explain less than half of the \n",
    "pca.explained_variance_ratio_"
   ]
  },
  {
   "cell_type": "code",
   "execution_count": 115,
   "metadata": {},
   "outputs": [],
   "source": [
    "pcX = pca_analysis_[pca_analysis_.columns[0:1]]\n",
    "pcY = pca_analysis_[\"quality\"]"
   ]
  },
  {
   "cell_type": "code",
   "execution_count": 116,
   "metadata": {},
   "outputs": [],
   "source": [
    "from sklearn.model_selection import train_test_split\n",
    "X_train, X_test, y_train, y_test = train_test_split(pcX, pcY,train_size=.5, random_state=3)"
   ]
  },
  {
   "cell_type": "code",
   "execution_count": 129,
   "metadata": {
    "scrolled": true
   },
   "outputs": [
    {
     "data": {
      "text/plain": [
       "LinearRegression(copy_X=True, fit_intercept=True, n_jobs=None, normalize=False)"
      ]
     },
     "execution_count": 129,
     "metadata": {},
     "output_type": "execute_result"
    }
   ],
   "source": [
    "from sklearn.linear_model import LinearRegression\n",
    "\n",
    "model = LinearRegression()\n",
    "model.fit(X_train, y_train)"
   ]
  },
  {
   "cell_type": "code",
   "execution_count": 130,
   "metadata": {},
   "outputs": [
    {
     "name": "stdout",
     "output_type": "stream",
     "text": [
      "Training Score: 0.002128601334415614\n",
      "Testing Score: 0.000316512859663054\n"
     ]
    }
   ],
   "source": [
    "model.fit(X_train, y_train)\n",
    "training_score = model.score(X_train, y_train)\n",
    "testing_score = model.score(X_test, y_test)\n",
    "\n",
    "print(f\"Training Score: {training_score}\")\n",
    "print(f\"Testing Score: {testing_score}\")"
   ]
  },
  {
   "cell_type": "code",
   "execution_count": 118,
   "metadata": {
    "scrolled": true
   },
   "outputs": [
    {
     "name": "stdout",
     "output_type": "stream",
     "text": [
      "MSE: 0.7764705882352941, R2: 0.000316512859663054\n"
     ]
    }
   ],
   "source": [
    "from sklearn.metrics import mean_squared_error\n",
    "\n",
    "prediction7 = model.predict(X_test)\n",
    "rounded7 = np.rint(prediction7)\n",
    "\n",
    "MSE = mean_squared_error(y_test, rounded7)\n",
    "r2 = model.score(X_test, y_test)\n",
    "\n",
    "print(f\"MSE: {MSE}, R2: {r2}\")"
   ]
  },
  {
   "cell_type": "code",
   "execution_count": 119,
   "metadata": {
    "scrolled": true
   },
   "outputs": [
    {
     "data": {
      "text/plain": [
       "array([5.96197566, 5.96572325, 5.94004258, ..., 5.94420134, 5.83038646,\n",
       "       5.8489832 ])"
      ]
     },
     "execution_count": 119,
     "metadata": {},
     "output_type": "execute_result"
    }
   ],
   "source": [
    "# actual = y_test\n",
    "predicted = model.predict(X_test)\n",
    "predicted\n",
    "# comparison_df = act"
   ]
  },
  {
   "cell_type": "code",
   "execution_count": 125,
   "metadata": {
    "scrolled": false
   },
   "outputs": [
    {
     "data": {
      "text/plain": [
       "array([5.96197566, 5.96572325, 5.94004258, ..., 5.94420134, 5.83038646,\n",
       "       5.8489832 ])"
      ]
     },
     "execution_count": 125,
     "metadata": {},
     "output_type": "execute_result"
    }
   ],
   "source": [
    "prediction7"
   ]
  },
  {
   "cell_type": "code",
   "execution_count": 126,
   "metadata": {
    "scrolled": true
   },
   "outputs": [
    {
     "data": {
      "text/html": [
       "<div>\n",
       "<style scoped>\n",
       "    .dataframe tbody tr th:only-of-type {\n",
       "        vertical-align: middle;\n",
       "    }\n",
       "\n",
       "    .dataframe tbody tr th {\n",
       "        vertical-align: top;\n",
       "    }\n",
       "\n",
       "    .dataframe thead th {\n",
       "        text-align: right;\n",
       "    }\n",
       "</style>\n",
       "<table border=\"1\" class=\"dataframe\">\n",
       "  <thead>\n",
       "    <tr style=\"text-align: right;\">\n",
       "      <th></th>\n",
       "      <th>quality</th>\n",
       "      <th>prediction</th>\n",
       "    </tr>\n",
       "  </thead>\n",
       "  <tbody>\n",
       "    <tr>\n",
       "      <th>3830</th>\n",
       "      <td>7.0</td>\n",
       "      <td>6.0</td>\n",
       "    </tr>\n",
       "    <tr>\n",
       "      <th>3034</th>\n",
       "      <td>6.0</td>\n",
       "      <td>6.0</td>\n",
       "    </tr>\n",
       "    <tr>\n",
       "      <th>1285</th>\n",
       "      <td>6.0</td>\n",
       "      <td>6.0</td>\n",
       "    </tr>\n",
       "    <tr>\n",
       "      <th>2010</th>\n",
       "      <td>6.0</td>\n",
       "      <td>6.0</td>\n",
       "    </tr>\n",
       "    <tr>\n",
       "      <th>1582</th>\n",
       "      <td>7.0</td>\n",
       "      <td>6.0</td>\n",
       "    </tr>\n",
       "    <tr>\n",
       "      <th>...</th>\n",
       "      <td>...</td>\n",
       "      <td>...</td>\n",
       "    </tr>\n",
       "    <tr>\n",
       "      <th>1736</th>\n",
       "      <td>5.0</td>\n",
       "      <td>6.0</td>\n",
       "    </tr>\n",
       "    <tr>\n",
       "      <th>1005</th>\n",
       "      <td>6.0</td>\n",
       "      <td>6.0</td>\n",
       "    </tr>\n",
       "    <tr>\n",
       "      <th>850</th>\n",
       "      <td>7.0</td>\n",
       "      <td>6.0</td>\n",
       "    </tr>\n",
       "    <tr>\n",
       "      <th>493</th>\n",
       "      <td>6.0</td>\n",
       "      <td>6.0</td>\n",
       "    </tr>\n",
       "    <tr>\n",
       "      <th>1887</th>\n",
       "      <td>5.0</td>\n",
       "      <td>6.0</td>\n",
       "    </tr>\n",
       "  </tbody>\n",
       "</table>\n",
       "<p>2040 rows × 2 columns</p>\n",
       "</div>"
      ],
      "text/plain": [
       "      quality  prediction\n",
       "3830      7.0         6.0\n",
       "3034      6.0         6.0\n",
       "1285      6.0         6.0\n",
       "2010      6.0         6.0\n",
       "1582      7.0         6.0\n",
       "...       ...         ...\n",
       "1736      5.0         6.0\n",
       "1005      6.0         6.0\n",
       "850       7.0         6.0\n",
       "493       6.0         6.0\n",
       "1887      5.0         6.0\n",
       "\n",
       "[2040 rows x 2 columns]"
      ]
     },
     "execution_count": 126,
     "metadata": {},
     "output_type": "execute_result"
    }
   ],
   "source": [
    "comparison_df = pd.DataFrame(y_test)\n",
    "comparison_df[\"prediction\"] = prediction7\n",
    "comparison_df.round()\n"
   ]
  },
  {
   "cell_type": "markdown",
   "metadata": {},
   "source": [
    "# Ordinal Regression "
   ]
  },
  {
   "cell_type": "markdown",
   "metadata": {},
   "source": [
    "Threshold-based model (LogisticIT)"
   ]
  },
  {
   "cell_type": "code",
   "execution_count": 34,
   "metadata": {},
   "outputs": [],
   "source": [
    "from sklearn.model_selection import train_test_split\n",
    "X_train, X_test, y_train, y_test = train_test_split(X, y, random_state=42)"
   ]
  },
  {
   "cell_type": "code",
   "execution_count": 35,
   "metadata": {},
   "outputs": [],
   "source": [
    "from sklearn.preprocessing import MinMaxScaler\n",
    "X_scaler = MinMaxScaler().fit(X_train)\n",
    "X_train_scaled = X_scaler.transform(X_train)\n",
    "X_test_scaled = X_scaler.transform(X_test)"
   ]
  },
  {
   "cell_type": "code",
   "execution_count": 36,
   "metadata": {},
   "outputs": [],
   "source": [
    "import mord as m\n",
    "classifier = m.LogisticIT()"
   ]
  },
  {
   "cell_type": "code",
   "execution_count": 37,
   "metadata": {},
   "outputs": [
    {
     "name": "stderr",
     "output_type": "stream",
     "text": [
      "/opt/anaconda3/lib/python3.7/site-packages/sklearn/utils/validation.py:760: DataConversionWarning: A column-vector y was passed when a 1d array was expected. Please change the shape of y to (n_samples, ), for example using ravel().\n",
      "  y = column_or_1d(y, warn=True)\n"
     ]
    },
    {
     "data": {
      "text/plain": [
       "LogisticIT(alpha=1.0, max_iter=1000, verbose=0)"
      ]
     },
     "execution_count": 37,
     "metadata": {},
     "output_type": "execute_result"
    }
   ],
   "source": [
    "classifier.fit(X_train_scaled, y_train)"
   ]
  },
  {
   "cell_type": "code",
   "execution_count": 38,
   "metadata": {},
   "outputs": [
    {
     "name": "stdout",
     "output_type": "stream",
     "text": [
      "Training Data Score: 0.5290957923008057\n",
      "Testing Data Score: 0.5232558139534884\n"
     ]
    }
   ],
   "source": [
    "print(f\"Training Data Score: {classifier.score(X_train_scaled, y_train)}\")\n",
    "print(f\"Testing Data Score: {classifier.score(X_test_scaled, y_test)}\")"
   ]
  },
  {
   "cell_type": "markdown",
   "metadata": {},
   "source": [
    "Regression based model\n",
    "\n",
    "-Ordinal Ridge"
   ]
  },
  {
   "cell_type": "code",
   "execution_count": 39,
   "metadata": {},
   "outputs": [],
   "source": [
    "from sklearn.model_selection import train_test_split\n",
    "X_train, X_test, y_train, y_test = train_test_split(X, y, random_state=42)"
   ]
  },
  {
   "cell_type": "code",
   "execution_count": 40,
   "metadata": {},
   "outputs": [],
   "source": [
    "from sklearn.preprocessing import MinMaxScaler\n",
    "X_scaler = MinMaxScaler().fit(X_train)\n",
    "X_train_scaled = X_scaler.transform(X_train)\n",
    "X_test_scaled = X_scaler.transform(X_test)"
   ]
  },
  {
   "cell_type": "code",
   "execution_count": 41,
   "metadata": {},
   "outputs": [
    {
     "data": {
      "text/plain": [
       "OrdinalRidge(alpha=1.0, copy_X=True, fit_intercept=True, max_iter=None,\n",
       "             normalize=False, random_state=None, solver='auto', tol=0.001)"
      ]
     },
     "execution_count": 41,
     "metadata": {},
     "output_type": "execute_result"
    }
   ],
   "source": [
    "import mord as m\n",
    "classifier = m.OrdinalRidge()\n",
    "classifier.fit(X_train_scaled, y_train)"
   ]
  },
  {
   "cell_type": "code",
   "execution_count": 42,
   "metadata": {},
   "outputs": [
    {
     "name": "stdout",
     "output_type": "stream",
     "text": [
      "Training Data Score: -0.6332438078185616\n",
      "Testing Data Score: -0.6198568872987478\n"
     ]
    }
   ],
   "source": [
    "print(f\"Training Data Score: {classifier.score(X_train_scaled, y_train)}\")\n",
    "print(f\"Testing Data Score: {classifier.score(X_test_scaled, y_test)}\")"
   ]
  },
  {
   "cell_type": "markdown",
   "metadata": {},
   "source": [
    "Regression based model\n",
    "\n",
    "- LAD :\n",
    "The Least Absolute Deviation model instead minimizes the absolute value of the residuals, i.e.MAE regression\n",
    "\n",
    "This provides a more robust solution when outliers are present, but it does have some undesirable properties, most notably that there are some situations where there is no unique solution, and in fact an infinite number of different regression lines are possible."
   ]
  },
  {
   "cell_type": "code",
   "execution_count": 43,
   "metadata": {},
   "outputs": [],
   "source": [
    "from sklearn.model_selection import train_test_split\n",
    "X_train, X_test, y_train, y_test = train_test_split(X, y, random_state=42)"
   ]
  },
  {
   "cell_type": "code",
   "execution_count": 44,
   "metadata": {},
   "outputs": [],
   "source": [
    "from sklearn.preprocessing import MinMaxScaler\n",
    "X_scaler = MinMaxScaler().fit(X_train)\n",
    "X_train_scaled = X_scaler.transform(X_train)\n",
    "X_test_scaled = X_scaler.transform(X_test)"
   ]
  },
  {
   "cell_type": "code",
   "execution_count": 45,
   "metadata": {},
   "outputs": [
    {
     "name": "stderr",
     "output_type": "stream",
     "text": [
      "/opt/anaconda3/lib/python3.7/site-packages/sklearn/utils/validation.py:760: DataConversionWarning: A column-vector y was passed when a 1d array was expected. Please change the shape of y to (n_samples, ), for example using ravel().\n",
      "  y = column_or_1d(y, warn=True)\n"
     ]
    },
    {
     "data": {
      "text/plain": [
       "LAD(C=1.0, dual=True, epsilon=0.0, fit_intercept=True, intercept_scaling=1.0,\n",
       "    loss='epsilon_insensitive', max_iter=1000, random_state=None, tol=0.0001,\n",
       "    verbose=0)"
      ]
     },
     "execution_count": 45,
     "metadata": {},
     "output_type": "execute_result"
    }
   ],
   "source": [
    "import mord as m\n",
    "classifier = m.LAD()\n",
    "classifier.fit(X_train_scaled, y_train)"
   ]
  },
  {
   "cell_type": "code",
   "execution_count": 46,
   "metadata": {
    "scrolled": true
   },
   "outputs": [
    {
     "name": "stdout",
     "output_type": "stream",
     "text": [
      "Training Data Score: -0.5276037003879439\n",
      "Testing Data Score: -0.5178890876565295\n"
     ]
    }
   ],
   "source": [
    "print(f\"Training Data Score: {classifier.score(X_train_scaled, y_train)}\")\n",
    "print(f\"Testing Data Score: {classifier.score(X_test_scaled, y_test)}\")"
   ]
  },
  {
   "cell_type": "code",
   "execution_count": 140,
   "metadata": {},
   "outputs": [
    {
     "data": {
      "text/html": [
       "<style  type=\"text/css\" >\n",
       "</style><table id=\"T_a44f5f6e_cae6_11ea_8eed_8438354f2f3a\" ><thead>    <tr>        <th class=\"col_heading level0 col0\" >Model</th>        <th class=\"col_heading level0 col1\" >Score</th>    </tr></thead><tbody>\n",
       "                <tr>\n",
       "                                <td id=\"T_a44f5f6e_cae6_11ea_8eed_8438354f2f3arow0_col0\" class=\"data row0 col0\" >Multiple Linear Regression</td>\n",
       "                        <td id=\"T_a44f5f6e_cae6_11ea_8eed_8438354f2f3arow0_col1\" class=\"data row0 col1\" >0.300000</td>\n",
       "            </tr>\n",
       "            <tr>\n",
       "                                <td id=\"T_a44f5f6e_cae6_11ea_8eed_8438354f2f3arow1_col0\" class=\"data row1 col0\" >Principle Component Analysis</td>\n",
       "                        <td id=\"T_a44f5f6e_cae6_11ea_8eed_8438354f2f3arow1_col1\" class=\"data row1 col1\" >0.000000</td>\n",
       "            </tr>\n",
       "            <tr>\n",
       "                                <td id=\"T_a44f5f6e_cae6_11ea_8eed_8438354f2f3arow2_col0\" class=\"data row2 col0\" >Ordinal Regression_Logistic</td>\n",
       "                        <td id=\"T_a44f5f6e_cae6_11ea_8eed_8438354f2f3arow2_col1\" class=\"data row2 col1\" >0.520000</td>\n",
       "            </tr>\n",
       "            <tr>\n",
       "                                <td id=\"T_a44f5f6e_cae6_11ea_8eed_8438354f2f3arow3_col0\" class=\"data row3 col0\" >Ordinal Regression_Ridge</td>\n",
       "                        <td id=\"T_a44f5f6e_cae6_11ea_8eed_8438354f2f3arow3_col1\" class=\"data row3 col1\" >-0.610000</td>\n",
       "            </tr>\n",
       "            <tr>\n",
       "                                <td id=\"T_a44f5f6e_cae6_11ea_8eed_8438354f2f3arow4_col0\" class=\"data row4 col0\" >Ordinal Regression_LAD</td>\n",
       "                        <td id=\"T_a44f5f6e_cae6_11ea_8eed_8438354f2f3arow4_col1\" class=\"data row4 col1\" >-0.510000</td>\n",
       "            </tr>\n",
       "    </tbody></table>"
      ],
      "text/plain": [
       "<pandas.io.formats.style.Styler at 0x7f8eb7723990>"
      ]
     },
     "execution_count": 140,
     "metadata": {},
     "output_type": "execute_result"
    }
   ],
   "source": [
    "model_summary = pd.DataFrame(\n",
    "    {\"Model\" : [\"Multiple Linear Regression\", \"Principle Component Analysis\", \n",
    "                \"Ordinal Regression_Logistic\",\"Ordinal Regression_Ridge\",\"Ordinal Regression_LAD\"],\n",
    "     \"Score\" : [0.30, 0.00, 0.52, -0.61, -0.51]\n",
    "    })\n",
    "model_summary.style.hide_index()"
   ]
  }
 ],
 "metadata": {
  "kernelspec": {
   "display_name": "Python 3",
   "language": "python",
   "name": "python3"
  },
  "language_info": {
   "codemirror_mode": {
    "name": "ipython",
    "version": 3
   },
   "file_extension": ".py",
   "mimetype": "text/x-python",
   "name": "python",
   "nbconvert_exporter": "python",
   "pygments_lexer": "ipython3",
   "version": "3.7.6"
  }
 },
 "nbformat": 4,
 "nbformat_minor": 4
}
